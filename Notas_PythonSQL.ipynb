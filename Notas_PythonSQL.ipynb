{
  "nbformat": 4,
  "nbformat_minor": 0,
  "metadata": {
    "colab": {
      "name": "Notas_Python+SQL.ipynb",
      "provenance": [],
      "authorship_tag": "ABX9TyOyhJZRKLG1ivLp+69KKcvU",
      "include_colab_link": true
    },
    "kernelspec": {
      "name": "python3",
      "display_name": "Python 3"
    },
    "language_info": {
      "name": "python"
    }
  },
  "cells": [
    {
      "cell_type": "markdown",
      "metadata": {
        "id": "view-in-github",
        "colab_type": "text"
      },
      "source": [
        "<a href=\"https://colab.research.google.com/github/PabloCaSan/Data-Science-Training/blob/main/Notas_PythonSQL.ipynb\" target=\"_parent\"><img src=\"https://colab.research.google.com/assets/colab-badge.svg\" alt=\"Open In Colab\"/></a>"
      ]
    },
    {
      "cell_type": "markdown",
      "source": [
        "#PostgreSQL"
      ],
      "metadata": {
        "id": "WF0_QaATSONL"
      }
    },
    {
      "cell_type": "markdown",
      "source": [
        "Primero importamos las librerías\n",
        "\n",
        "```\n",
        "!pip install psycopg2\n",
        "import psycopg2\n",
        "import pandas as pd\n",
        "import numpy as np\n",
        "```\n",
        "\n",
        "Ahora creamos una conexión con la base de datos\n",
        "\n",
        "```\n",
        "conn_sql = psycopg2.connect(user = \"user_name\",\n",
        "                            password = \"password\",\n",
        "                            host = \"xxx.xxx.xxx.xxx\",\n",
        "                            port = \"5432\",\n",
        "                            database = \"postgres_db_name\")\n",
        "```\n",
        "\n",
        "Definimos nuestro query (código de SQL)\n",
        "\n",
        "```\n",
        "query_sql = '''\n",
        "select *\n",
        "from table_name\n",
        "limit 10\n",
        "'''\n",
        "```\n",
        "Donde * es para mostrar todo. (También se puede mostrar \n",
        "solo una columna como *select COLUMNA from table_name*)  \n",
        "\n",
        "Y creamos el dataframe\n",
        "\n",
        "```\n",
        "df = pd.read_sql(query_sql, sql_conn)\n",
        "df.head(5)\n",
        "```\n",
        "\n"
      ],
      "metadata": {
        "id": "WhNQv7bXPZOV"
      }
    },
    {
      "cell_type": "markdown",
      "source": [
        "#SQL Server"
      ],
      "metadata": {
        "id": "C4FoZNX9SarZ"
      }
    },
    {
      "cell_type": "markdown",
      "source": [
        "Primero importamos las librerías\n",
        "\n",
        "```\n",
        "!pip install pyodbc\n",
        "import pandas as pd\n",
        "import pyodbc\n",
        "```\n",
        "\n",
        "\n",
        "Ahora creamos una conexión con SQL\n",
        "\n",
        "\n",
        "```\n",
        "driver = '{SQL Server}'\n",
        "server_name = 'server_name'\n",
        "db_name = 'database_name'\n",
        "user = 'user'\n",
        "password = 'password'\n",
        "sql_conn = pyodbc.connect('''\n",
        "DRIVER={};SERVER={};DATABASE={};UID={};PWD={};\n",
        "Trusted_Connection=yes\n",
        "'''.format(driver, server_name, db_name, user, password))\n",
        "```\n",
        "O con DSN\n",
        "\n",
        "```\n",
        "dsn = 'odbc_datasource_name'\n",
        "sql_conn = pyodbc.connect('''\n",
        "DSN={};UID={};PWD={};Trusted_Connection=yes;\n",
        "'''.format(dsn, user, password))\n",
        "Seguido simplemente definimos nuestra query en SQL:\t\n",
        "query_sql = 'select * from table_name limit 10'\n",
        "```\n",
        "\n",
        "Y creamos el dataframe\n",
        "\n",
        "```\n",
        "df = pd.read_sql(query_sql, sql_conn)\n",
        "df.head(5)\n",
        "\n",
        "```\n",
        "\n",
        "\n",
        "\n",
        "\n"
      ],
      "metadata": {
        "id": "DSWUAJ06S9Y1"
      }
    },
    {
      "cell_type": "markdown",
      "source": [
        "#MySQL / Oracle / Otras:"
      ],
      "metadata": {
        "id": "_EM-x3vVTPj2"
      }
    },
    {
      "cell_type": "markdown",
      "source": [
        "Primero importamos las librerías\n",
        "\n",
        "```\n",
        "!pip install sqlalchemy\n",
        "import pandas as pd\n",
        "import sqlalchemy as sql\n",
        "Escogemos nuestra base de datos, Oracle, MySql o la de tu preferencia:\n",
        "database_type = 'mysql'\n",
        "database_type = 'oracle'\n",
        "```\n",
        "\n",
        "Ahora creamos una conexión con la base de datos\n",
        "\n",
        "```\n",
        "user = 'user_name'\n",
        "password = 'password'\n",
        "host = 'xxx.xxx.xxx.xxx:port'\n",
        "database = 'database_name'\n",
        "\n",
        "conn_string = '{}://{}:{}@{}/{}'.format(\n",
        "database_type, user, password, host, database)\n",
        "\n",
        "sql_conn = sql.create_engine(conn_string)\n",
        "```\n",
        "\n",
        "Definimos nuestra query\n",
        "\n",
        "```\n",
        "query_sql = '''\n",
        "select *\n",
        "from table_name\n",
        "limit 10\n",
        "'''\n",
        "```\n",
        "\n",
        "Y creamos el dataframe\n",
        "\n",
        "```\n",
        "df = pd.read_sql(query_sql, sql_conn)\n",
        "df.head(5)\n",
        "```\n",
        "\n",
        "\n",
        "\n",
        "\n"
      ],
      "metadata": {
        "id": "ZngAMBD3UAWO"
      }
    }
  ]
}