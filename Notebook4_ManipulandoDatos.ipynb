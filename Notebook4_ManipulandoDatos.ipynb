{
  "nbformat": 4,
  "nbformat_minor": 0,
  "metadata": {
    "colab": {
      "name": "Pandas4-ManipulandoDatos.ipynb",
      "provenance": [],
      "collapsed_sections": [],
      "authorship_tag": "ABX9TyMro8D5gHU/s8tf5TBMDxfV",
      "include_colab_link": true
    },
    "kernelspec": {
      "name": "python3",
      "display_name": "Python 3"
    },
    "language_info": {
      "name": "python"
    }
  },
  "cells": [
    {
      "cell_type": "markdown",
      "metadata": {
        "id": "view-in-github",
        "colab_type": "text"
      },
      "source": [
        "<a href=\"https://colab.research.google.com/github/PabloCaSan/Data-Science-Training/blob/main/Notebook4_ManipulandoDatos.ipynb\" target=\"_parent\"><img src=\"https://colab.research.google.com/assets/colab-badge.svg\" alt=\"Open In Colab\"/></a>"
      ]
    },
    {
      "cell_type": "markdown",
      "source": [
        "**Nota:** Para esta práctica hay que descargar un archivo csv de la NASA. Se puede encontrar en el siguiente [enlace](https://drive.google.com/drive/folders/13AsTOToO6kN2KDB4By57LFgFm-DTWO8i?usp=sharing)  "
      ],
      "metadata": {
        "id": "xp0hSIQa9DFC"
      }
    },
    {
      "cell_type": "markdown",
      "source": [
        "Conectamos con nuestro Google Drive"
      ],
      "metadata": {
        "id": "0rzoeeZy9sgV"
      }
    },
    {
      "cell_type": "code",
      "execution_count": null,
      "metadata": {
        "colab": {
          "base_uri": "https://localhost:8080/"
        },
        "id": "cr_ghZ1o6Vkc",
        "outputId": "0185b733-9170-4168-cda5-2fdff2ff7b89"
      },
      "outputs": [
        {
          "output_type": "stream",
          "name": "stdout",
          "text": [
            "Mounted at /content/drive\n"
          ]
        }
      ],
      "source": [
        "from google.colab import drive\n",
        "drive.mount('/content/drive')"
      ]
    },
    {
      "cell_type": "markdown",
      "source": [
        "Navegamos en Drive hasta la carpeta donde está guardada la base de datos"
      ],
      "metadata": {
        "id": "ibjg0wO49HNZ"
      }
    },
    {
      "cell_type": "code",
      "source": [
        "%cd /content/drive/MyDrive/Platzi/db \n",
        "!ls"
      ],
      "metadata": {
        "colab": {
          "base_uri": "https://localhost:8080/"
        },
        "id": "uAhRsic96sQq",
        "outputId": "cc0c50ce-4f98-49ae-9ebc-1cd454c2d5f2"
      },
      "execution_count": null,
      "outputs": [
        {
          "output_type": "stream",
          "name": "stdout",
          "text": [
            "/content/drive/MyDrive/Platzi/db\n",
            "Meteorite_Landings.csv\ttest.csv\n"
          ]
        }
      ]
    },
    {
      "cell_type": "markdown",
      "source": [
        "Importamos las librerías"
      ],
      "metadata": {
        "id": "O-JRYDdR91NI"
      }
    },
    {
      "cell_type": "code",
      "source": [
        "import pandas as pd"
      ],
      "metadata": {
        "id": "hTEx2m0V7Nrl"
      },
      "execution_count": null,
      "outputs": []
    },
    {
      "cell_type": "markdown",
      "source": [
        "Leemos los datos y guardamos la línea de código en una variable, para no tener que escribir todo a cada rato"
      ],
      "metadata": {
        "id": "ebERaBql935z"
      }
    },
    {
      "cell_type": "code",
      "source": [
        "df_meteorites = pd.read_csv('Meteorite_Landings.csv')\n",
        "df_meteorites"
      ],
      "metadata": {
        "colab": {
          "base_uri": "https://localhost:8080/",
          "height": 419
        },
        "id": "tefvhqlu7Oau",
        "outputId": "744dad7d-d566-4b01-986a-04ee42488333"
      },
      "execution_count": null,
      "outputs": [
        {
          "output_type": "execute_result",
          "data": {
            "text/html": [
              "<div>\n",
              "<style scoped>\n",
              "    .dataframe tbody tr th:only-of-type {\n",
              "        vertical-align: middle;\n",
              "    }\n",
              "\n",
              "    .dataframe tbody tr th {\n",
              "        vertical-align: top;\n",
              "    }\n",
              "\n",
              "    .dataframe thead th {\n",
              "        text-align: right;\n",
              "    }\n",
              "</style>\n",
              "<table border=\"1\" class=\"dataframe\">\n",
              "  <thead>\n",
              "    <tr style=\"text-align: right;\">\n",
              "      <th></th>\n",
              "      <th>name</th>\n",
              "      <th>id</th>\n",
              "      <th>nametype</th>\n",
              "      <th>recclass</th>\n",
              "      <th>mass (g)</th>\n",
              "      <th>fall</th>\n",
              "      <th>year</th>\n",
              "      <th>reclat</th>\n",
              "      <th>reclong</th>\n",
              "      <th>GeoLocation</th>\n",
              "    </tr>\n",
              "  </thead>\n",
              "  <tbody>\n",
              "    <tr>\n",
              "      <th>0</th>\n",
              "      <td>Aachen</td>\n",
              "      <td>1</td>\n",
              "      <td>Valid</td>\n",
              "      <td>L5</td>\n",
              "      <td>21.0</td>\n",
              "      <td>Fell</td>\n",
              "      <td>01/01/1880 12:00:00 AM</td>\n",
              "      <td>50.77500</td>\n",
              "      <td>6.08333</td>\n",
              "      <td>(50.775, 6.08333)</td>\n",
              "    </tr>\n",
              "    <tr>\n",
              "      <th>1</th>\n",
              "      <td>Aarhus</td>\n",
              "      <td>2</td>\n",
              "      <td>Valid</td>\n",
              "      <td>H6</td>\n",
              "      <td>720.0</td>\n",
              "      <td>Fell</td>\n",
              "      <td>01/01/1951 12:00:00 AM</td>\n",
              "      <td>56.18333</td>\n",
              "      <td>10.23333</td>\n",
              "      <td>(56.18333, 10.23333)</td>\n",
              "    </tr>\n",
              "    <tr>\n",
              "      <th>2</th>\n",
              "      <td>Abee</td>\n",
              "      <td>6</td>\n",
              "      <td>Valid</td>\n",
              "      <td>EH4</td>\n",
              "      <td>107000.0</td>\n",
              "      <td>Fell</td>\n",
              "      <td>01/01/1952 12:00:00 AM</td>\n",
              "      <td>54.21667</td>\n",
              "      <td>-113.00000</td>\n",
              "      <td>(54.21667, -113.0)</td>\n",
              "    </tr>\n",
              "    <tr>\n",
              "      <th>3</th>\n",
              "      <td>Acapulco</td>\n",
              "      <td>10</td>\n",
              "      <td>Valid</td>\n",
              "      <td>Acapulcoite</td>\n",
              "      <td>1914.0</td>\n",
              "      <td>Fell</td>\n",
              "      <td>01/01/1976 12:00:00 AM</td>\n",
              "      <td>16.88333</td>\n",
              "      <td>-99.90000</td>\n",
              "      <td>(16.88333, -99.9)</td>\n",
              "    </tr>\n",
              "    <tr>\n",
              "      <th>4</th>\n",
              "      <td>Achiras</td>\n",
              "      <td>370</td>\n",
              "      <td>Valid</td>\n",
              "      <td>L6</td>\n",
              "      <td>780.0</td>\n",
              "      <td>Fell</td>\n",
              "      <td>01/01/1902 12:00:00 AM</td>\n",
              "      <td>-33.16667</td>\n",
              "      <td>-64.95000</td>\n",
              "      <td>(-33.16667, -64.95)</td>\n",
              "    </tr>\n",
              "    <tr>\n",
              "      <th>...</th>\n",
              "      <td>...</td>\n",
              "      <td>...</td>\n",
              "      <td>...</td>\n",
              "      <td>...</td>\n",
              "      <td>...</td>\n",
              "      <td>...</td>\n",
              "      <td>...</td>\n",
              "      <td>...</td>\n",
              "      <td>...</td>\n",
              "      <td>...</td>\n",
              "    </tr>\n",
              "    <tr>\n",
              "      <th>45711</th>\n",
              "      <td>Zillah 002</td>\n",
              "      <td>31356</td>\n",
              "      <td>Valid</td>\n",
              "      <td>Eucrite</td>\n",
              "      <td>172.0</td>\n",
              "      <td>Found</td>\n",
              "      <td>01/01/1990 12:00:00 AM</td>\n",
              "      <td>29.03700</td>\n",
              "      <td>17.01850</td>\n",
              "      <td>(29.037, 17.0185)</td>\n",
              "    </tr>\n",
              "    <tr>\n",
              "      <th>45712</th>\n",
              "      <td>Zinder</td>\n",
              "      <td>30409</td>\n",
              "      <td>Valid</td>\n",
              "      <td>Pallasite, ungrouped</td>\n",
              "      <td>46.0</td>\n",
              "      <td>Found</td>\n",
              "      <td>01/01/1999 12:00:00 AM</td>\n",
              "      <td>13.78333</td>\n",
              "      <td>8.96667</td>\n",
              "      <td>(13.78333, 8.96667)</td>\n",
              "    </tr>\n",
              "    <tr>\n",
              "      <th>45713</th>\n",
              "      <td>Zlin</td>\n",
              "      <td>30410</td>\n",
              "      <td>Valid</td>\n",
              "      <td>H4</td>\n",
              "      <td>3.3</td>\n",
              "      <td>Found</td>\n",
              "      <td>01/01/1939 12:00:00 AM</td>\n",
              "      <td>49.25000</td>\n",
              "      <td>17.66667</td>\n",
              "      <td>(49.25, 17.66667)</td>\n",
              "    </tr>\n",
              "    <tr>\n",
              "      <th>45714</th>\n",
              "      <td>Zubkovsky</td>\n",
              "      <td>31357</td>\n",
              "      <td>Valid</td>\n",
              "      <td>L6</td>\n",
              "      <td>2167.0</td>\n",
              "      <td>Found</td>\n",
              "      <td>01/01/2003 12:00:00 AM</td>\n",
              "      <td>49.78917</td>\n",
              "      <td>41.50460</td>\n",
              "      <td>(49.78917, 41.5046)</td>\n",
              "    </tr>\n",
              "    <tr>\n",
              "      <th>45715</th>\n",
              "      <td>Zulu Queen</td>\n",
              "      <td>30414</td>\n",
              "      <td>Valid</td>\n",
              "      <td>L3.7</td>\n",
              "      <td>200.0</td>\n",
              "      <td>Found</td>\n",
              "      <td>01/01/1976 12:00:00 AM</td>\n",
              "      <td>33.98333</td>\n",
              "      <td>-115.68333</td>\n",
              "      <td>(33.98333, -115.68333)</td>\n",
              "    </tr>\n",
              "  </tbody>\n",
              "</table>\n",
              "<p>45716 rows × 10 columns</p>\n",
              "</div>"
            ],
            "text/plain": [
              "             name     id nametype  ...    reclat    reclong             GeoLocation\n",
              "0          Aachen      1    Valid  ...  50.77500    6.08333       (50.775, 6.08333)\n",
              "1          Aarhus      2    Valid  ...  56.18333   10.23333    (56.18333, 10.23333)\n",
              "2            Abee      6    Valid  ...  54.21667 -113.00000      (54.21667, -113.0)\n",
              "3        Acapulco     10    Valid  ...  16.88333  -99.90000       (16.88333, -99.9)\n",
              "4         Achiras    370    Valid  ... -33.16667  -64.95000     (-33.16667, -64.95)\n",
              "...           ...    ...      ...  ...       ...        ...                     ...\n",
              "45711  Zillah 002  31356    Valid  ...  29.03700   17.01850       (29.037, 17.0185)\n",
              "45712      Zinder  30409    Valid  ...  13.78333    8.96667     (13.78333, 8.96667)\n",
              "45713        Zlin  30410    Valid  ...  49.25000   17.66667       (49.25, 17.66667)\n",
              "45714   Zubkovsky  31357    Valid  ...  49.78917   41.50460     (49.78917, 41.5046)\n",
              "45715  Zulu Queen  30414    Valid  ...  33.98333 -115.68333  (33.98333, -115.68333)\n",
              "\n",
              "[45716 rows x 10 columns]"
            ]
          },
          "metadata": {},
          "execution_count": 28
        }
      ]
    },
    {
      "cell_type": "markdown",
      "source": [
        "Podemos explorar la base de datos mostrando solo los primeros cinco datos"
      ],
      "metadata": {
        "id": "3hyHryEX-FqJ"
      }
    },
    {
      "cell_type": "code",
      "source": [
        "df_meteorites.head(5)"
      ],
      "metadata": {
        "colab": {
          "base_uri": "https://localhost:8080/",
          "height": 204
        },
        "id": "NibX1q5A885R",
        "outputId": "8ad9f228-f319-4d2b-deb0-c2b5a2364416"
      },
      "execution_count": null,
      "outputs": [
        {
          "output_type": "execute_result",
          "data": {
            "text/html": [
              "<div>\n",
              "<style scoped>\n",
              "    .dataframe tbody tr th:only-of-type {\n",
              "        vertical-align: middle;\n",
              "    }\n",
              "\n",
              "    .dataframe tbody tr th {\n",
              "        vertical-align: top;\n",
              "    }\n",
              "\n",
              "    .dataframe thead th {\n",
              "        text-align: right;\n",
              "    }\n",
              "</style>\n",
              "<table border=\"1\" class=\"dataframe\">\n",
              "  <thead>\n",
              "    <tr style=\"text-align: right;\">\n",
              "      <th></th>\n",
              "      <th>name</th>\n",
              "      <th>id</th>\n",
              "      <th>nametype</th>\n",
              "      <th>recclass</th>\n",
              "      <th>mass (g)</th>\n",
              "      <th>fall</th>\n",
              "      <th>year</th>\n",
              "      <th>reclat</th>\n",
              "      <th>reclong</th>\n",
              "      <th>GeoLocation</th>\n",
              "    </tr>\n",
              "  </thead>\n",
              "  <tbody>\n",
              "    <tr>\n",
              "      <th>0</th>\n",
              "      <td>Aachen</td>\n",
              "      <td>1</td>\n",
              "      <td>Valid</td>\n",
              "      <td>L5</td>\n",
              "      <td>21.0</td>\n",
              "      <td>Fell</td>\n",
              "      <td>01/01/1880 12:00:00 AM</td>\n",
              "      <td>50.77500</td>\n",
              "      <td>6.08333</td>\n",
              "      <td>(50.775, 6.08333)</td>\n",
              "    </tr>\n",
              "    <tr>\n",
              "      <th>1</th>\n",
              "      <td>Aarhus</td>\n",
              "      <td>2</td>\n",
              "      <td>Valid</td>\n",
              "      <td>H6</td>\n",
              "      <td>720.0</td>\n",
              "      <td>Fell</td>\n",
              "      <td>01/01/1951 12:00:00 AM</td>\n",
              "      <td>56.18333</td>\n",
              "      <td>10.23333</td>\n",
              "      <td>(56.18333, 10.23333)</td>\n",
              "    </tr>\n",
              "    <tr>\n",
              "      <th>2</th>\n",
              "      <td>Abee</td>\n",
              "      <td>6</td>\n",
              "      <td>Valid</td>\n",
              "      <td>EH4</td>\n",
              "      <td>107000.0</td>\n",
              "      <td>Fell</td>\n",
              "      <td>01/01/1952 12:00:00 AM</td>\n",
              "      <td>54.21667</td>\n",
              "      <td>-113.00000</td>\n",
              "      <td>(54.21667, -113.0)</td>\n",
              "    </tr>\n",
              "    <tr>\n",
              "      <th>3</th>\n",
              "      <td>Acapulco</td>\n",
              "      <td>10</td>\n",
              "      <td>Valid</td>\n",
              "      <td>Acapulcoite</td>\n",
              "      <td>1914.0</td>\n",
              "      <td>Fell</td>\n",
              "      <td>01/01/1976 12:00:00 AM</td>\n",
              "      <td>16.88333</td>\n",
              "      <td>-99.90000</td>\n",
              "      <td>(16.88333, -99.9)</td>\n",
              "    </tr>\n",
              "    <tr>\n",
              "      <th>4</th>\n",
              "      <td>Achiras</td>\n",
              "      <td>370</td>\n",
              "      <td>Valid</td>\n",
              "      <td>L6</td>\n",
              "      <td>780.0</td>\n",
              "      <td>Fell</td>\n",
              "      <td>01/01/1902 12:00:00 AM</td>\n",
              "      <td>-33.16667</td>\n",
              "      <td>-64.95000</td>\n",
              "      <td>(-33.16667, -64.95)</td>\n",
              "    </tr>\n",
              "  </tbody>\n",
              "</table>\n",
              "</div>"
            ],
            "text/plain": [
              "       name   id nametype  ...    reclat    reclong           GeoLocation\n",
              "0    Aachen    1    Valid  ...  50.77500    6.08333     (50.775, 6.08333)\n",
              "1    Aarhus    2    Valid  ...  56.18333   10.23333  (56.18333, 10.23333)\n",
              "2      Abee    6    Valid  ...  54.21667 -113.00000    (54.21667, -113.0)\n",
              "3  Acapulco   10    Valid  ...  16.88333  -99.90000     (16.88333, -99.9)\n",
              "4   Achiras  370    Valid  ... -33.16667  -64.95000   (-33.16667, -64.95)\n",
              "\n",
              "[5 rows x 10 columns]"
            ]
          },
          "metadata": {},
          "execution_count": 29
        }
      ]
    },
    {
      "cell_type": "markdown",
      "source": [
        "Análogo a lo anterior, se pueden mostrar los últimos cinco datos"
      ],
      "metadata": {
        "id": "-FCP3Eq8-t3l"
      }
    },
    {
      "cell_type": "code",
      "source": [
        "df_meteorites.tail(5)"
      ],
      "metadata": {
        "colab": {
          "base_uri": "https://localhost:8080/",
          "height": 204
        },
        "id": "NvfSigQI-QAU",
        "outputId": "393fd97d-3387-4ba8-edfe-f69c87d5f9d7"
      },
      "execution_count": null,
      "outputs": [
        {
          "output_type": "execute_result",
          "data": {
            "text/html": [
              "<div>\n",
              "<style scoped>\n",
              "    .dataframe tbody tr th:only-of-type {\n",
              "        vertical-align: middle;\n",
              "    }\n",
              "\n",
              "    .dataframe tbody tr th {\n",
              "        vertical-align: top;\n",
              "    }\n",
              "\n",
              "    .dataframe thead th {\n",
              "        text-align: right;\n",
              "    }\n",
              "</style>\n",
              "<table border=\"1\" class=\"dataframe\">\n",
              "  <thead>\n",
              "    <tr style=\"text-align: right;\">\n",
              "      <th></th>\n",
              "      <th>name</th>\n",
              "      <th>id</th>\n",
              "      <th>nametype</th>\n",
              "      <th>recclass</th>\n",
              "      <th>mass (g)</th>\n",
              "      <th>fall</th>\n",
              "      <th>year</th>\n",
              "      <th>reclat</th>\n",
              "      <th>reclong</th>\n",
              "      <th>GeoLocation</th>\n",
              "    </tr>\n",
              "  </thead>\n",
              "  <tbody>\n",
              "    <tr>\n",
              "      <th>45711</th>\n",
              "      <td>Zillah 002</td>\n",
              "      <td>31356</td>\n",
              "      <td>Valid</td>\n",
              "      <td>Eucrite</td>\n",
              "      <td>172.0</td>\n",
              "      <td>Found</td>\n",
              "      <td>01/01/1990 12:00:00 AM</td>\n",
              "      <td>29.03700</td>\n",
              "      <td>17.01850</td>\n",
              "      <td>(29.037, 17.0185)</td>\n",
              "    </tr>\n",
              "    <tr>\n",
              "      <th>45712</th>\n",
              "      <td>Zinder</td>\n",
              "      <td>30409</td>\n",
              "      <td>Valid</td>\n",
              "      <td>Pallasite, ungrouped</td>\n",
              "      <td>46.0</td>\n",
              "      <td>Found</td>\n",
              "      <td>01/01/1999 12:00:00 AM</td>\n",
              "      <td>13.78333</td>\n",
              "      <td>8.96667</td>\n",
              "      <td>(13.78333, 8.96667)</td>\n",
              "    </tr>\n",
              "    <tr>\n",
              "      <th>45713</th>\n",
              "      <td>Zlin</td>\n",
              "      <td>30410</td>\n",
              "      <td>Valid</td>\n",
              "      <td>H4</td>\n",
              "      <td>3.3</td>\n",
              "      <td>Found</td>\n",
              "      <td>01/01/1939 12:00:00 AM</td>\n",
              "      <td>49.25000</td>\n",
              "      <td>17.66667</td>\n",
              "      <td>(49.25, 17.66667)</td>\n",
              "    </tr>\n",
              "    <tr>\n",
              "      <th>45714</th>\n",
              "      <td>Zubkovsky</td>\n",
              "      <td>31357</td>\n",
              "      <td>Valid</td>\n",
              "      <td>L6</td>\n",
              "      <td>2167.0</td>\n",
              "      <td>Found</td>\n",
              "      <td>01/01/2003 12:00:00 AM</td>\n",
              "      <td>49.78917</td>\n",
              "      <td>41.50460</td>\n",
              "      <td>(49.78917, 41.5046)</td>\n",
              "    </tr>\n",
              "    <tr>\n",
              "      <th>45715</th>\n",
              "      <td>Zulu Queen</td>\n",
              "      <td>30414</td>\n",
              "      <td>Valid</td>\n",
              "      <td>L3.7</td>\n",
              "      <td>200.0</td>\n",
              "      <td>Found</td>\n",
              "      <td>01/01/1976 12:00:00 AM</td>\n",
              "      <td>33.98333</td>\n",
              "      <td>-115.68333</td>\n",
              "      <td>(33.98333, -115.68333)</td>\n",
              "    </tr>\n",
              "  </tbody>\n",
              "</table>\n",
              "</div>"
            ],
            "text/plain": [
              "             name     id nametype  ...    reclat    reclong             GeoLocation\n",
              "45711  Zillah 002  31356    Valid  ...  29.03700   17.01850       (29.037, 17.0185)\n",
              "45712      Zinder  30409    Valid  ...  13.78333    8.96667     (13.78333, 8.96667)\n",
              "45713        Zlin  30410    Valid  ...  49.25000   17.66667       (49.25, 17.66667)\n",
              "45714   Zubkovsky  31357    Valid  ...  49.78917   41.50460     (49.78917, 41.5046)\n",
              "45715  Zulu Queen  30414    Valid  ...  33.98333 -115.68333  (33.98333, -115.68333)\n",
              "\n",
              "[5 rows x 10 columns]"
            ]
          },
          "metadata": {},
          "execution_count": 33
        }
      ]
    },
    {
      "cell_type": "markdown",
      "source": [
        "También se pueden tomar datos aleatorios dentro de la lista de datos"
      ],
      "metadata": {
        "id": "zDPC8hlu_E9u"
      }
    },
    {
      "cell_type": "code",
      "source": [
        "df_meteorites.sample(5)"
      ],
      "metadata": {
        "colab": {
          "base_uri": "https://localhost:8080/",
          "height": 204
        },
        "id": "5xFOQqTL-43Y",
        "outputId": "a2e3d468-0afa-47a6-c031-6c4c110582ef"
      },
      "execution_count": null,
      "outputs": [
        {
          "output_type": "execute_result",
          "data": {
            "text/html": [
              "<div>\n",
              "<style scoped>\n",
              "    .dataframe tbody tr th:only-of-type {\n",
              "        vertical-align: middle;\n",
              "    }\n",
              "\n",
              "    .dataframe tbody tr th {\n",
              "        vertical-align: top;\n",
              "    }\n",
              "\n",
              "    .dataframe thead th {\n",
              "        text-align: right;\n",
              "    }\n",
              "</style>\n",
              "<table border=\"1\" class=\"dataframe\">\n",
              "  <thead>\n",
              "    <tr style=\"text-align: right;\">\n",
              "      <th></th>\n",
              "      <th>name</th>\n",
              "      <th>id</th>\n",
              "      <th>nametype</th>\n",
              "      <th>recclass</th>\n",
              "      <th>mass (g)</th>\n",
              "      <th>fall</th>\n",
              "      <th>year</th>\n",
              "      <th>reclat</th>\n",
              "      <th>reclong</th>\n",
              "      <th>GeoLocation</th>\n",
              "    </tr>\n",
              "  </thead>\n",
              "  <tbody>\n",
              "    <tr>\n",
              "      <th>1307</th>\n",
              "      <td>Acfer 192</td>\n",
              "      <td>200</td>\n",
              "      <td>Valid</td>\n",
              "      <td>H3.9-5</td>\n",
              "      <td>219.0</td>\n",
              "      <td>Found</td>\n",
              "      <td>01/01/1990 12:00:00 AM</td>\n",
              "      <td>27.65000</td>\n",
              "      <td>4.20000</td>\n",
              "      <td>(27.65, 4.2)</td>\n",
              "    </tr>\n",
              "    <tr>\n",
              "      <th>9316</th>\n",
              "      <td>El Médano 087</td>\n",
              "      <td>56599</td>\n",
              "      <td>Valid</td>\n",
              "      <td>H4</td>\n",
              "      <td>13.9</td>\n",
              "      <td>Found</td>\n",
              "      <td>01/01/2011 12:00:00 AM</td>\n",
              "      <td>-24.85000</td>\n",
              "      <td>-70.53333</td>\n",
              "      <td>(-24.85, -70.53333)</td>\n",
              "    </tr>\n",
              "    <tr>\n",
              "      <th>23875</th>\n",
              "      <td>Meteorite Hills 01182</td>\n",
              "      <td>16414</td>\n",
              "      <td>Valid</td>\n",
              "      <td>H3.8</td>\n",
              "      <td>69.9</td>\n",
              "      <td>Found</td>\n",
              "      <td>01/01/2001 12:00:00 AM</td>\n",
              "      <td>-79.68333</td>\n",
              "      <td>159.75000</td>\n",
              "      <td>(-79.68333, 159.75)</td>\n",
              "    </tr>\n",
              "    <tr>\n",
              "      <th>36681</th>\n",
              "      <td>Sahara 99029</td>\n",
              "      <td>23041</td>\n",
              "      <td>Valid</td>\n",
              "      <td>L6</td>\n",
              "      <td>250.0</td>\n",
              "      <td>Found</td>\n",
              "      <td>01/01/1999 12:00:00 AM</td>\n",
              "      <td>NaN</td>\n",
              "      <td>NaN</td>\n",
              "      <td>NaN</td>\n",
              "    </tr>\n",
              "    <tr>\n",
              "      <th>16424</th>\n",
              "      <td>Hughes 007</td>\n",
              "      <td>11931</td>\n",
              "      <td>Valid</td>\n",
              "      <td>Ureilite</td>\n",
              "      <td>58.0</td>\n",
              "      <td>Found</td>\n",
              "      <td>01/01/1991 12:00:00 AM</td>\n",
              "      <td>-30.56833</td>\n",
              "      <td>129.63750</td>\n",
              "      <td>(-30.56833, 129.6375)</td>\n",
              "    </tr>\n",
              "  </tbody>\n",
              "</table>\n",
              "</div>"
            ],
            "text/plain": [
              "                        name     id  ...    reclong            GeoLocation\n",
              "1307               Acfer 192    200  ...    4.20000           (27.65, 4.2)\n",
              "9316           El Médano 087  56599  ...  -70.53333    (-24.85, -70.53333)\n",
              "23875  Meteorite Hills 01182  16414  ...  159.75000    (-79.68333, 159.75)\n",
              "36681           Sahara 99029  23041  ...        NaN                    NaN\n",
              "16424             Hughes 007  11931  ...  129.63750  (-30.56833, 129.6375)\n",
              "\n",
              "[5 rows x 10 columns]"
            ]
          },
          "metadata": {},
          "execution_count": 32
        }
      ]
    },
    {
      "cell_type": "markdown",
      "source": [
        "Se pueden ver las dimensiones de la tabla de datos (como renglones, columnas)"
      ],
      "metadata": {
        "id": "ZyDD4AnA_od1"
      }
    },
    {
      "cell_type": "code",
      "source": [
        "df_meteorites.shape"
      ],
      "metadata": {
        "colab": {
          "base_uri": "https://localhost:8080/"
        },
        "id": "15Ds2rHs_Kpw",
        "outputId": "7ba80427-45fb-4efb-a467-750c7d898c87"
      },
      "execution_count": null,
      "outputs": [
        {
          "output_type": "execute_result",
          "data": {
            "text/plain": [
              "(45716, 10)"
            ]
          },
          "metadata": {},
          "execution_count": 35
        }
      ]
    },
    {
      "cell_type": "markdown",
      "source": [
        "O la cantidad total de datos ( resultado de multiplicar columnas por renglones)"
      ],
      "metadata": {
        "id": "BvIo1j3P_-PE"
      }
    },
    {
      "cell_type": "code",
      "source": [
        "df_meteorites.size"
      ],
      "metadata": {
        "colab": {
          "base_uri": "https://localhost:8080/"
        },
        "id": "cMYPspIH_woA",
        "outputId": "98b83a95-93ba-43c0-dd81-435e2fd6cebf"
      },
      "execution_count": null,
      "outputs": [
        {
          "output_type": "execute_result",
          "data": {
            "text/plain": [
              "457160"
            ]
          },
          "metadata": {},
          "execution_count": 38
        }
      ]
    },
    {
      "cell_type": "markdown",
      "source": [
        "Se puede extraer <u>información importante de los valores numéricos</u> de la tabla con la siguiente función:"
      ],
      "metadata": {
        "id": "deJ4qPCVBC4h"
      }
    },
    {
      "cell_type": "code",
      "source": [
        "df_meteorites.describe()"
      ],
      "metadata": {
        "colab": {
          "base_uri": "https://localhost:8080/",
          "height": 297
        },
        "id": "iqnKiPbK_6c7",
        "outputId": "dae52829-4a0c-4e4f-a984-ecc8f716cac3"
      },
      "execution_count": null,
      "outputs": [
        {
          "output_type": "execute_result",
          "data": {
            "text/html": [
              "<div>\n",
              "<style scoped>\n",
              "    .dataframe tbody tr th:only-of-type {\n",
              "        vertical-align: middle;\n",
              "    }\n",
              "\n",
              "    .dataframe tbody tr th {\n",
              "        vertical-align: top;\n",
              "    }\n",
              "\n",
              "    .dataframe thead th {\n",
              "        text-align: right;\n",
              "    }\n",
              "</style>\n",
              "<table border=\"1\" class=\"dataframe\">\n",
              "  <thead>\n",
              "    <tr style=\"text-align: right;\">\n",
              "      <th></th>\n",
              "      <th>id</th>\n",
              "      <th>mass (g)</th>\n",
              "      <th>reclat</th>\n",
              "      <th>reclong</th>\n",
              "    </tr>\n",
              "  </thead>\n",
              "  <tbody>\n",
              "    <tr>\n",
              "      <th>count</th>\n",
              "      <td>45716.000000</td>\n",
              "      <td>4.558500e+04</td>\n",
              "      <td>38401.000000</td>\n",
              "      <td>38401.000000</td>\n",
              "    </tr>\n",
              "    <tr>\n",
              "      <th>mean</th>\n",
              "      <td>26889.735104</td>\n",
              "      <td>1.327808e+04</td>\n",
              "      <td>-39.122580</td>\n",
              "      <td>61.074319</td>\n",
              "    </tr>\n",
              "    <tr>\n",
              "      <th>std</th>\n",
              "      <td>16860.683030</td>\n",
              "      <td>5.749889e+05</td>\n",
              "      <td>46.378511</td>\n",
              "      <td>80.647298</td>\n",
              "    </tr>\n",
              "    <tr>\n",
              "      <th>min</th>\n",
              "      <td>1.000000</td>\n",
              "      <td>0.000000e+00</td>\n",
              "      <td>-87.366670</td>\n",
              "      <td>-165.433330</td>\n",
              "    </tr>\n",
              "    <tr>\n",
              "      <th>25%</th>\n",
              "      <td>12688.750000</td>\n",
              "      <td>7.200000e+00</td>\n",
              "      <td>-76.714240</td>\n",
              "      <td>0.000000</td>\n",
              "    </tr>\n",
              "    <tr>\n",
              "      <th>50%</th>\n",
              "      <td>24261.500000</td>\n",
              "      <td>3.260000e+01</td>\n",
              "      <td>-71.500000</td>\n",
              "      <td>35.666670</td>\n",
              "    </tr>\n",
              "    <tr>\n",
              "      <th>75%</th>\n",
              "      <td>40656.750000</td>\n",
              "      <td>2.026000e+02</td>\n",
              "      <td>0.000000</td>\n",
              "      <td>157.166670</td>\n",
              "    </tr>\n",
              "    <tr>\n",
              "      <th>max</th>\n",
              "      <td>57458.000000</td>\n",
              "      <td>6.000000e+07</td>\n",
              "      <td>81.166670</td>\n",
              "      <td>354.473330</td>\n",
              "    </tr>\n",
              "  </tbody>\n",
              "</table>\n",
              "</div>"
            ],
            "text/plain": [
              "                 id      mass (g)        reclat       reclong\n",
              "count  45716.000000  4.558500e+04  38401.000000  38401.000000\n",
              "mean   26889.735104  1.327808e+04    -39.122580     61.074319\n",
              "std    16860.683030  5.749889e+05     46.378511     80.647298\n",
              "min        1.000000  0.000000e+00    -87.366670   -165.433330\n",
              "25%    12688.750000  7.200000e+00    -76.714240      0.000000\n",
              "50%    24261.500000  3.260000e+01    -71.500000     35.666670\n",
              "75%    40656.750000  2.026000e+02      0.000000    157.166670\n",
              "max    57458.000000  6.000000e+07     81.166670    354.473330"
            ]
          },
          "metadata": {},
          "execution_count": 40
        }
      ]
    },
    {
      "cell_type": "markdown",
      "source": [
        "Se puede modificar la manera en la que se presentan los valores numéricos, de la siguiente manera:"
      ],
      "metadata": {
        "id": "Clcz0tD3BcaQ"
      }
    },
    {
      "cell_type": "code",
      "source": [
        "pd.options.display.float_format = '{:,.1f}'.format"
      ],
      "metadata": {
        "id": "xO_omR_hBK24"
      },
      "execution_count": null,
      "outputs": []
    },
    {
      "cell_type": "markdown",
      "source": [
        "Donde la coma sirve para separar los miles (con comas), y el 1f para mostrar solo una cifra decimal (quita la notación científica). Lo anterior resulta en lo siguiente:"
      ],
      "metadata": {
        "id": "9SaVpTtVB-J_"
      }
    },
    {
      "cell_type": "code",
      "source": [
        "df_meteorites.describe()"
      ],
      "metadata": {
        "colab": {
          "base_uri": "https://localhost:8080/",
          "height": 297
        },
        "id": "oPzGRjIyBy9Q",
        "outputId": "b8af76bf-da65-4c47-ce1b-43f42f124b57"
      },
      "execution_count": null,
      "outputs": [
        {
          "output_type": "execute_result",
          "data": {
            "text/html": [
              "<div>\n",
              "<style scoped>\n",
              "    .dataframe tbody tr th:only-of-type {\n",
              "        vertical-align: middle;\n",
              "    }\n",
              "\n",
              "    .dataframe tbody tr th {\n",
              "        vertical-align: top;\n",
              "    }\n",
              "\n",
              "    .dataframe thead th {\n",
              "        text-align: right;\n",
              "    }\n",
              "</style>\n",
              "<table border=\"1\" class=\"dataframe\">\n",
              "  <thead>\n",
              "    <tr style=\"text-align: right;\">\n",
              "      <th></th>\n",
              "      <th>id</th>\n",
              "      <th>mass (g)</th>\n",
              "      <th>reclat</th>\n",
              "      <th>reclong</th>\n",
              "    </tr>\n",
              "  </thead>\n",
              "  <tbody>\n",
              "    <tr>\n",
              "      <th>count</th>\n",
              "      <td>45,716.0</td>\n",
              "      <td>45,585.0</td>\n",
              "      <td>38,401.0</td>\n",
              "      <td>38,401.0</td>\n",
              "    </tr>\n",
              "    <tr>\n",
              "      <th>mean</th>\n",
              "      <td>26,889.7</td>\n",
              "      <td>13,278.1</td>\n",
              "      <td>-39.1</td>\n",
              "      <td>61.1</td>\n",
              "    </tr>\n",
              "    <tr>\n",
              "      <th>std</th>\n",
              "      <td>16,860.7</td>\n",
              "      <td>574,988.9</td>\n",
              "      <td>46.4</td>\n",
              "      <td>80.6</td>\n",
              "    </tr>\n",
              "    <tr>\n",
              "      <th>min</th>\n",
              "      <td>1.0</td>\n",
              "      <td>0.0</td>\n",
              "      <td>-87.4</td>\n",
              "      <td>-165.4</td>\n",
              "    </tr>\n",
              "    <tr>\n",
              "      <th>25%</th>\n",
              "      <td>12,688.8</td>\n",
              "      <td>7.2</td>\n",
              "      <td>-76.7</td>\n",
              "      <td>0.0</td>\n",
              "    </tr>\n",
              "    <tr>\n",
              "      <th>50%</th>\n",
              "      <td>24,261.5</td>\n",
              "      <td>32.6</td>\n",
              "      <td>-71.5</td>\n",
              "      <td>35.7</td>\n",
              "    </tr>\n",
              "    <tr>\n",
              "      <th>75%</th>\n",
              "      <td>40,656.8</td>\n",
              "      <td>202.6</td>\n",
              "      <td>0.0</td>\n",
              "      <td>157.2</td>\n",
              "    </tr>\n",
              "    <tr>\n",
              "      <th>max</th>\n",
              "      <td>57,458.0</td>\n",
              "      <td>60,000,000.0</td>\n",
              "      <td>81.2</td>\n",
              "      <td>354.5</td>\n",
              "    </tr>\n",
              "  </tbody>\n",
              "</table>\n",
              "</div>"
            ],
            "text/plain": [
              "            id     mass (g)   reclat  reclong\n",
              "count 45,716.0     45,585.0 38,401.0 38,401.0\n",
              "mean  26,889.7     13,278.1    -39.1     61.1\n",
              "std   16,860.7    574,988.9     46.4     80.6\n",
              "min        1.0          0.0    -87.4   -165.4\n",
              "25%   12,688.8          7.2    -76.7      0.0\n",
              "50%   24,261.5         32.6    -71.5     35.7\n",
              "75%   40,656.8        202.6      0.0    157.2\n",
              "max   57,458.0 60,000,000.0     81.2    354.5"
            ]
          },
          "metadata": {},
          "execution_count": 42
        }
      ]
    },
    {
      "cell_type": "markdown",
      "source": [
        "También se puede extraer <u>información importante de los valores numéricos y textuales</u> de la tabla con la siguiente función:"
      ],
      "metadata": {
        "id": "Wg2ecExzC8Qm"
      }
    },
    {
      "cell_type": "code",
      "source": [
        "df_meteorites.describe(include='all')"
      ],
      "metadata": {
        "colab": {
          "base_uri": "https://localhost:8080/",
          "height": 390
        },
        "id": "V6TdG2EEB0TV",
        "outputId": "d6c416d1-619d-4432-efb4-80d54fd8ef22"
      },
      "execution_count": null,
      "outputs": [
        {
          "output_type": "execute_result",
          "data": {
            "text/html": [
              "<div>\n",
              "<style scoped>\n",
              "    .dataframe tbody tr th:only-of-type {\n",
              "        vertical-align: middle;\n",
              "    }\n",
              "\n",
              "    .dataframe tbody tr th {\n",
              "        vertical-align: top;\n",
              "    }\n",
              "\n",
              "    .dataframe thead th {\n",
              "        text-align: right;\n",
              "    }\n",
              "</style>\n",
              "<table border=\"1\" class=\"dataframe\">\n",
              "  <thead>\n",
              "    <tr style=\"text-align: right;\">\n",
              "      <th></th>\n",
              "      <th>name</th>\n",
              "      <th>id</th>\n",
              "      <th>nametype</th>\n",
              "      <th>recclass</th>\n",
              "      <th>mass (g)</th>\n",
              "      <th>fall</th>\n",
              "      <th>year</th>\n",
              "      <th>reclat</th>\n",
              "      <th>reclong</th>\n",
              "      <th>GeoLocation</th>\n",
              "    </tr>\n",
              "  </thead>\n",
              "  <tbody>\n",
              "    <tr>\n",
              "      <th>count</th>\n",
              "      <td>45716</td>\n",
              "      <td>45,716.0</td>\n",
              "      <td>45716</td>\n",
              "      <td>45716</td>\n",
              "      <td>45,585.0</td>\n",
              "      <td>45716</td>\n",
              "      <td>45425</td>\n",
              "      <td>38,401.0</td>\n",
              "      <td>38,401.0</td>\n",
              "      <td>38401</td>\n",
              "    </tr>\n",
              "    <tr>\n",
              "      <th>unique</th>\n",
              "      <td>45716</td>\n",
              "      <td>nan</td>\n",
              "      <td>2</td>\n",
              "      <td>466</td>\n",
              "      <td>nan</td>\n",
              "      <td>2</td>\n",
              "      <td>266</td>\n",
              "      <td>nan</td>\n",
              "      <td>nan</td>\n",
              "      <td>17100</td>\n",
              "    </tr>\n",
              "    <tr>\n",
              "      <th>top</th>\n",
              "      <td>Hope Creek</td>\n",
              "      <td>nan</td>\n",
              "      <td>Valid</td>\n",
              "      <td>L6</td>\n",
              "      <td>nan</td>\n",
              "      <td>Found</td>\n",
              "      <td>01/01/2003 12:00:00 AM</td>\n",
              "      <td>nan</td>\n",
              "      <td>nan</td>\n",
              "      <td>(0.0, 0.0)</td>\n",
              "    </tr>\n",
              "    <tr>\n",
              "      <th>freq</th>\n",
              "      <td>1</td>\n",
              "      <td>nan</td>\n",
              "      <td>45641</td>\n",
              "      <td>8285</td>\n",
              "      <td>nan</td>\n",
              "      <td>44609</td>\n",
              "      <td>3323</td>\n",
              "      <td>nan</td>\n",
              "      <td>nan</td>\n",
              "      <td>6214</td>\n",
              "    </tr>\n",
              "    <tr>\n",
              "      <th>mean</th>\n",
              "      <td>NaN</td>\n",
              "      <td>26,889.7</td>\n",
              "      <td>NaN</td>\n",
              "      <td>NaN</td>\n",
              "      <td>13,278.1</td>\n",
              "      <td>NaN</td>\n",
              "      <td>NaN</td>\n",
              "      <td>-39.1</td>\n",
              "      <td>61.1</td>\n",
              "      <td>NaN</td>\n",
              "    </tr>\n",
              "    <tr>\n",
              "      <th>std</th>\n",
              "      <td>NaN</td>\n",
              "      <td>16,860.7</td>\n",
              "      <td>NaN</td>\n",
              "      <td>NaN</td>\n",
              "      <td>574,988.9</td>\n",
              "      <td>NaN</td>\n",
              "      <td>NaN</td>\n",
              "      <td>46.4</td>\n",
              "      <td>80.6</td>\n",
              "      <td>NaN</td>\n",
              "    </tr>\n",
              "    <tr>\n",
              "      <th>min</th>\n",
              "      <td>NaN</td>\n",
              "      <td>1.0</td>\n",
              "      <td>NaN</td>\n",
              "      <td>NaN</td>\n",
              "      <td>0.0</td>\n",
              "      <td>NaN</td>\n",
              "      <td>NaN</td>\n",
              "      <td>-87.4</td>\n",
              "      <td>-165.4</td>\n",
              "      <td>NaN</td>\n",
              "    </tr>\n",
              "    <tr>\n",
              "      <th>25%</th>\n",
              "      <td>NaN</td>\n",
              "      <td>12,688.8</td>\n",
              "      <td>NaN</td>\n",
              "      <td>NaN</td>\n",
              "      <td>7.2</td>\n",
              "      <td>NaN</td>\n",
              "      <td>NaN</td>\n",
              "      <td>-76.7</td>\n",
              "      <td>0.0</td>\n",
              "      <td>NaN</td>\n",
              "    </tr>\n",
              "    <tr>\n",
              "      <th>50%</th>\n",
              "      <td>NaN</td>\n",
              "      <td>24,261.5</td>\n",
              "      <td>NaN</td>\n",
              "      <td>NaN</td>\n",
              "      <td>32.6</td>\n",
              "      <td>NaN</td>\n",
              "      <td>NaN</td>\n",
              "      <td>-71.5</td>\n",
              "      <td>35.7</td>\n",
              "      <td>NaN</td>\n",
              "    </tr>\n",
              "    <tr>\n",
              "      <th>75%</th>\n",
              "      <td>NaN</td>\n",
              "      <td>40,656.8</td>\n",
              "      <td>NaN</td>\n",
              "      <td>NaN</td>\n",
              "      <td>202.6</td>\n",
              "      <td>NaN</td>\n",
              "      <td>NaN</td>\n",
              "      <td>0.0</td>\n",
              "      <td>157.2</td>\n",
              "      <td>NaN</td>\n",
              "    </tr>\n",
              "    <tr>\n",
              "      <th>max</th>\n",
              "      <td>NaN</td>\n",
              "      <td>57,458.0</td>\n",
              "      <td>NaN</td>\n",
              "      <td>NaN</td>\n",
              "      <td>60,000,000.0</td>\n",
              "      <td>NaN</td>\n",
              "      <td>NaN</td>\n",
              "      <td>81.2</td>\n",
              "      <td>354.5</td>\n",
              "      <td>NaN</td>\n",
              "    </tr>\n",
              "  </tbody>\n",
              "</table>\n",
              "</div>"
            ],
            "text/plain": [
              "              name       id nametype  ...   reclat  reclong GeoLocation\n",
              "count        45716 45,716.0    45716  ... 38,401.0 38,401.0       38401\n",
              "unique       45716      nan        2  ...      nan      nan       17100\n",
              "top     Hope Creek      nan    Valid  ...      nan      nan  (0.0, 0.0)\n",
              "freq             1      nan    45641  ...      nan      nan        6214\n",
              "mean           NaN 26,889.7      NaN  ...    -39.1     61.1         NaN\n",
              "std            NaN 16,860.7      NaN  ...     46.4     80.6         NaN\n",
              "min            NaN      1.0      NaN  ...    -87.4   -165.4         NaN\n",
              "25%            NaN 12,688.8      NaN  ...    -76.7      0.0         NaN\n",
              "50%            NaN 24,261.5      NaN  ...    -71.5     35.7         NaN\n",
              "75%            NaN 40,656.8      NaN  ...      0.0    157.2         NaN\n",
              "max            NaN 57,458.0      NaN  ...     81.2    354.5         NaN\n",
              "\n",
              "[11 rows x 10 columns]"
            ]
          },
          "metadata": {},
          "execution_count": 43
        }
      ]
    },
    {
      "cell_type": "markdown",
      "source": [
        "Para ver cuales son las categorías de las variables hacemos:"
      ],
      "metadata": {
        "id": "jqg-ofvyDuTx"
      }
    },
    {
      "cell_type": "code",
      "source": [
        "df_meteorites.info()"
      ],
      "metadata": {
        "colab": {
          "base_uri": "https://localhost:8080/"
        },
        "id": "4WSb78G5DHIG",
        "outputId": "efa4d0f8-081c-4f3f-f454-25dd147fefa8"
      },
      "execution_count": null,
      "outputs": [
        {
          "output_type": "stream",
          "name": "stdout",
          "text": [
            "<class 'pandas.core.frame.DataFrame'>\n",
            "RangeIndex: 45716 entries, 0 to 45715\n",
            "Data columns (total 10 columns):\n",
            " #   Column       Non-Null Count  Dtype  \n",
            "---  ------       --------------  -----  \n",
            " 0   name         45716 non-null  object \n",
            " 1   id           45716 non-null  int64  \n",
            " 2   nametype     45716 non-null  object \n",
            " 3   recclass     45716 non-null  object \n",
            " 4   mass (g)     45585 non-null  float64\n",
            " 5   fall         45716 non-null  object \n",
            " 6   year         45425 non-null  object \n",
            " 7   reclat       38401 non-null  float64\n",
            " 8   reclong      38401 non-null  float64\n",
            " 9   GeoLocation  38401 non-null  object \n",
            "dtypes: float64(3), int64(1), object(6)\n",
            "memory usage: 3.5+ MB\n"
          ]
        }
      ]
    },
    {
      "cell_type": "markdown",
      "source": [
        "Pandas también puede cambiar la categoría a la más adecuada, haciendo:"
      ],
      "metadata": {
        "id": "XAakvhm2ERMi"
      }
    },
    {
      "cell_type": "code",
      "source": [
        "df_meteorites.convert_dtypes().dtypes"
      ],
      "metadata": {
        "colab": {
          "base_uri": "https://localhost:8080/"
        },
        "id": "WZrdCm9aD43t",
        "outputId": "a99253da-3bd5-4384-e125-3e0b51074669"
      },
      "execution_count": null,
      "outputs": [
        {
          "output_type": "execute_result",
          "data": {
            "text/plain": [
              "name            string\n",
              "id               Int64\n",
              "nametype        string\n",
              "recclass        string\n",
              "mass (g)       float64\n",
              "fall            string\n",
              "year            string\n",
              "reclat         float64\n",
              "reclong        float64\n",
              "GeoLocation     string\n",
              "dtype: object"
            ]
          },
          "metadata": {},
          "execution_count": 45
        }
      ]
    },
    {
      "cell_type": "markdown",
      "source": [
        "Se puede ver la variedad de los datos de la tabla"
      ],
      "metadata": {
        "id": "DY87xM7ogHdY"
      }
    },
    {
      "cell_type": "code",
      "source": [
        "df_meteorites.nunique()"
      ],
      "metadata": {
        "colab": {
          "base_uri": "https://localhost:8080/"
        },
        "id": "NSoAOeWcEgCb",
        "outputId": "0c3e2243-61c2-487f-b8c9-b1d4436a186a"
      },
      "execution_count": null,
      "outputs": [
        {
          "output_type": "execute_result",
          "data": {
            "text/plain": [
              "name           45716\n",
              "id             45716\n",
              "nametype           2\n",
              "recclass         466\n",
              "mass (g)       12576\n",
              "fall               2\n",
              "year             266\n",
              "reclat         12738\n",
              "reclong        14640\n",
              "GeoLocation    17100\n",
              "dtype: int64"
            ]
          },
          "metadata": {},
          "execution_count": 46
        }
      ]
    },
    {
      "cell_type": "markdown",
      "source": [
        "Vemos que la variable *nametype* y la variable *fall*, solo tienen dos tipos. Si las analizamos más detalladamente..."
      ],
      "metadata": {
        "id": "3lvapgGrgcNB"
      }
    },
    {
      "cell_type": "code",
      "source": [
        "df_meteorites[['fall','nametype']]"
      ],
      "metadata": {
        "colab": {
          "base_uri": "https://localhost:8080/",
          "height": 419
        },
        "id": "26immIMsgQ4h",
        "outputId": "70cf7a29-488a-4627-9e4d-6ce8d7c8e42d"
      },
      "execution_count": null,
      "outputs": [
        {
          "output_type": "execute_result",
          "data": {
            "text/html": [
              "<div>\n",
              "<style scoped>\n",
              "    .dataframe tbody tr th:only-of-type {\n",
              "        vertical-align: middle;\n",
              "    }\n",
              "\n",
              "    .dataframe tbody tr th {\n",
              "        vertical-align: top;\n",
              "    }\n",
              "\n",
              "    .dataframe thead th {\n",
              "        text-align: right;\n",
              "    }\n",
              "</style>\n",
              "<table border=\"1\" class=\"dataframe\">\n",
              "  <thead>\n",
              "    <tr style=\"text-align: right;\">\n",
              "      <th></th>\n",
              "      <th>fall</th>\n",
              "      <th>nametype</th>\n",
              "    </tr>\n",
              "  </thead>\n",
              "  <tbody>\n",
              "    <tr>\n",
              "      <th>0</th>\n",
              "      <td>Fell</td>\n",
              "      <td>Valid</td>\n",
              "    </tr>\n",
              "    <tr>\n",
              "      <th>1</th>\n",
              "      <td>Fell</td>\n",
              "      <td>Valid</td>\n",
              "    </tr>\n",
              "    <tr>\n",
              "      <th>2</th>\n",
              "      <td>Fell</td>\n",
              "      <td>Valid</td>\n",
              "    </tr>\n",
              "    <tr>\n",
              "      <th>3</th>\n",
              "      <td>Fell</td>\n",
              "      <td>Valid</td>\n",
              "    </tr>\n",
              "    <tr>\n",
              "      <th>4</th>\n",
              "      <td>Fell</td>\n",
              "      <td>Valid</td>\n",
              "    </tr>\n",
              "    <tr>\n",
              "      <th>...</th>\n",
              "      <td>...</td>\n",
              "      <td>...</td>\n",
              "    </tr>\n",
              "    <tr>\n",
              "      <th>45711</th>\n",
              "      <td>Found</td>\n",
              "      <td>Valid</td>\n",
              "    </tr>\n",
              "    <tr>\n",
              "      <th>45712</th>\n",
              "      <td>Found</td>\n",
              "      <td>Valid</td>\n",
              "    </tr>\n",
              "    <tr>\n",
              "      <th>45713</th>\n",
              "      <td>Found</td>\n",
              "      <td>Valid</td>\n",
              "    </tr>\n",
              "    <tr>\n",
              "      <th>45714</th>\n",
              "      <td>Found</td>\n",
              "      <td>Valid</td>\n",
              "    </tr>\n",
              "    <tr>\n",
              "      <th>45715</th>\n",
              "      <td>Found</td>\n",
              "      <td>Valid</td>\n",
              "    </tr>\n",
              "  </tbody>\n",
              "</table>\n",
              "<p>45716 rows × 2 columns</p>\n",
              "</div>"
            ],
            "text/plain": [
              "        fall nametype\n",
              "0       Fell    Valid\n",
              "1       Fell    Valid\n",
              "2       Fell    Valid\n",
              "3       Fell    Valid\n",
              "4       Fell    Valid\n",
              "...      ...      ...\n",
              "45711  Found    Valid\n",
              "45712  Found    Valid\n",
              "45713  Found    Valid\n",
              "45714  Found    Valid\n",
              "45715  Found    Valid\n",
              "\n",
              "[45716 rows x 2 columns]"
            ]
          },
          "metadata": {},
          "execution_count": 47
        }
      ]
    },
    {
      "cell_type": "markdown",
      "source": [
        "Vemos que corresponden a valores binarios, es decir, del tipo sí/no, verdadero/falso, encontrado/perdido, etc. A este tipo de variables se les llama *categóricas* y se puede cambiar la categoría (tipo de variable) de la base de datos a una más adecuada:"
      ],
      "metadata": {
        "id": "4J6EoTxyhD-7"
      }
    },
    {
      "cell_type": "code",
      "source": [
        "df_meteorites[['fall','nametype']].astype('category')"
      ],
      "metadata": {
        "colab": {
          "base_uri": "https://localhost:8080/",
          "height": 419
        },
        "id": "P3I1mb8Mg0TB",
        "outputId": "09738e05-4a84-440f-dca3-bad8078add2d"
      },
      "execution_count": null,
      "outputs": [
        {
          "output_type": "execute_result",
          "data": {
            "text/html": [
              "<div>\n",
              "<style scoped>\n",
              "    .dataframe tbody tr th:only-of-type {\n",
              "        vertical-align: middle;\n",
              "    }\n",
              "\n",
              "    .dataframe tbody tr th {\n",
              "        vertical-align: top;\n",
              "    }\n",
              "\n",
              "    .dataframe thead th {\n",
              "        text-align: right;\n",
              "    }\n",
              "</style>\n",
              "<table border=\"1\" class=\"dataframe\">\n",
              "  <thead>\n",
              "    <tr style=\"text-align: right;\">\n",
              "      <th></th>\n",
              "      <th>fall</th>\n",
              "      <th>nametype</th>\n",
              "    </tr>\n",
              "  </thead>\n",
              "  <tbody>\n",
              "    <tr>\n",
              "      <th>0</th>\n",
              "      <td>Fell</td>\n",
              "      <td>Valid</td>\n",
              "    </tr>\n",
              "    <tr>\n",
              "      <th>1</th>\n",
              "      <td>Fell</td>\n",
              "      <td>Valid</td>\n",
              "    </tr>\n",
              "    <tr>\n",
              "      <th>2</th>\n",
              "      <td>Fell</td>\n",
              "      <td>Valid</td>\n",
              "    </tr>\n",
              "    <tr>\n",
              "      <th>3</th>\n",
              "      <td>Fell</td>\n",
              "      <td>Valid</td>\n",
              "    </tr>\n",
              "    <tr>\n",
              "      <th>4</th>\n",
              "      <td>Fell</td>\n",
              "      <td>Valid</td>\n",
              "    </tr>\n",
              "    <tr>\n",
              "      <th>...</th>\n",
              "      <td>...</td>\n",
              "      <td>...</td>\n",
              "    </tr>\n",
              "    <tr>\n",
              "      <th>45711</th>\n",
              "      <td>Found</td>\n",
              "      <td>Valid</td>\n",
              "    </tr>\n",
              "    <tr>\n",
              "      <th>45712</th>\n",
              "      <td>Found</td>\n",
              "      <td>Valid</td>\n",
              "    </tr>\n",
              "    <tr>\n",
              "      <th>45713</th>\n",
              "      <td>Found</td>\n",
              "      <td>Valid</td>\n",
              "    </tr>\n",
              "    <tr>\n",
              "      <th>45714</th>\n",
              "      <td>Found</td>\n",
              "      <td>Valid</td>\n",
              "    </tr>\n",
              "    <tr>\n",
              "      <th>45715</th>\n",
              "      <td>Found</td>\n",
              "      <td>Valid</td>\n",
              "    </tr>\n",
              "  </tbody>\n",
              "</table>\n",
              "<p>45716 rows × 2 columns</p>\n",
              "</div>"
            ],
            "text/plain": [
              "        fall nametype\n",
              "0       Fell    Valid\n",
              "1       Fell    Valid\n",
              "2       Fell    Valid\n",
              "3       Fell    Valid\n",
              "4       Fell    Valid\n",
              "...      ...      ...\n",
              "45711  Found    Valid\n",
              "45712  Found    Valid\n",
              "45713  Found    Valid\n",
              "45714  Found    Valid\n",
              "45715  Found    Valid\n",
              "\n",
              "[45716 rows x 2 columns]"
            ]
          },
          "metadata": {},
          "execution_count": 48
        }
      ]
    },
    {
      "cell_type": "markdown",
      "source": [
        "Para asegurarse de que lo anterior se aplique a la tabla hacemos:"
      ],
      "metadata": {
        "id": "LNjzF_8bhszU"
      }
    },
    {
      "cell_type": "code",
      "source": [
        "df_meteorites[['fall','nametype']] = df_meteorites[['fall','nametype']].astype('category')"
      ],
      "metadata": {
        "id": "g1AfwERMhnVM"
      },
      "execution_count": null,
      "outputs": []
    },
    {
      "cell_type": "markdown",
      "source": [
        "Y comprobamos que el cambio se haya realizado"
      ],
      "metadata": {
        "id": "TpWyrbaAh6Qy"
      }
    },
    {
      "cell_type": "code",
      "source": [
        "df_meteorites.dtypes"
      ],
      "metadata": {
        "colab": {
          "base_uri": "https://localhost:8080/"
        },
        "id": "IZHKh0x_h1w8",
        "outputId": "45d300ef-2cdd-4cce-d23b-5a4cefbf93a4"
      },
      "execution_count": null,
      "outputs": [
        {
          "output_type": "execute_result",
          "data": {
            "text/plain": [
              "name             object\n",
              "id                int64\n",
              "nametype       category\n",
              "recclass         object\n",
              "mass (g)        float64\n",
              "fall           category\n",
              "year             object\n",
              "reclat          float64\n",
              "reclong         float64\n",
              "GeoLocation      object\n",
              "dtype: object"
            ]
          },
          "metadata": {},
          "execution_count": 50
        }
      ]
    },
    {
      "cell_type": "markdown",
      "source": [
        "Para ver el tipo de valores que recibe una categoría hacemos:"
      ],
      "metadata": {
        "id": "XXSwUBvRiPOx"
      }
    },
    {
      "cell_type": "code",
      "source": [
        "df_meteorites['fall'].unique()"
      ],
      "metadata": {
        "colab": {
          "base_uri": "https://localhost:8080/"
        },
        "id": "Wo-Hcu37h_Om",
        "outputId": "8d30b222-bf81-45f8-b5ff-e025584f33d1"
      },
      "execution_count": null,
      "outputs": [
        {
          "output_type": "execute_result",
          "data": {
            "text/plain": [
              "['Fell', 'Found']\n",
              "Categories (2, object): ['Fell', 'Found']"
            ]
          },
          "metadata": {},
          "execution_count": 53
        }
      ]
    },
    {
      "cell_type": "markdown",
      "source": [
        "Y para ver cuántas veces se repite cada valor hacemos:"
      ],
      "metadata": {
        "id": "71FrbSQgirAB"
      }
    },
    {
      "cell_type": "code",
      "source": [
        "df_meteorites['fall'].value_counts()"
      ],
      "metadata": {
        "colab": {
          "base_uri": "https://localhost:8080/"
        },
        "id": "L1hXjWoUilrO",
        "outputId": "54e7204a-cec2-4b00-dba1-f3b7f8c9c8eb"
      },
      "execution_count": null,
      "outputs": [
        {
          "output_type": "execute_result",
          "data": {
            "text/plain": [
              "Found    44609\n",
              "Fell      1107\n",
              "Name: fall, dtype: int64"
            ]
          },
          "metadata": {},
          "execution_count": 55
        }
      ]
    },
    {
      "cell_type": "markdown",
      "source": [
        "Podemos usar una variable \"dummy\" (*dummies* en plural) para convertir los valores binarios de la variable *category* a unos y ceros (pasan de variable tipo texto a variable numérica)"
      ],
      "metadata": {
        "id": "5zG45d45jmyw"
      }
    },
    {
      "cell_type": "code",
      "source": [
        "pd.get_dummies(df_meteorites['fall'])"
      ],
      "metadata": {
        "colab": {
          "base_uri": "https://localhost:8080/",
          "height": 419
        },
        "id": "cPC8B-88izFs",
        "outputId": "54738da9-4a76-4ecb-b795-bb702ca1e229"
      },
      "execution_count": null,
      "outputs": [
        {
          "output_type": "execute_result",
          "data": {
            "text/html": [
              "<div>\n",
              "<style scoped>\n",
              "    .dataframe tbody tr th:only-of-type {\n",
              "        vertical-align: middle;\n",
              "    }\n",
              "\n",
              "    .dataframe tbody tr th {\n",
              "        vertical-align: top;\n",
              "    }\n",
              "\n",
              "    .dataframe thead th {\n",
              "        text-align: right;\n",
              "    }\n",
              "</style>\n",
              "<table border=\"1\" class=\"dataframe\">\n",
              "  <thead>\n",
              "    <tr style=\"text-align: right;\">\n",
              "      <th></th>\n",
              "      <th>Fell</th>\n",
              "      <th>Found</th>\n",
              "    </tr>\n",
              "  </thead>\n",
              "  <tbody>\n",
              "    <tr>\n",
              "      <th>0</th>\n",
              "      <td>1</td>\n",
              "      <td>0</td>\n",
              "    </tr>\n",
              "    <tr>\n",
              "      <th>1</th>\n",
              "      <td>1</td>\n",
              "      <td>0</td>\n",
              "    </tr>\n",
              "    <tr>\n",
              "      <th>2</th>\n",
              "      <td>1</td>\n",
              "      <td>0</td>\n",
              "    </tr>\n",
              "    <tr>\n",
              "      <th>3</th>\n",
              "      <td>1</td>\n",
              "      <td>0</td>\n",
              "    </tr>\n",
              "    <tr>\n",
              "      <th>4</th>\n",
              "      <td>1</td>\n",
              "      <td>0</td>\n",
              "    </tr>\n",
              "    <tr>\n",
              "      <th>...</th>\n",
              "      <td>...</td>\n",
              "      <td>...</td>\n",
              "    </tr>\n",
              "    <tr>\n",
              "      <th>45711</th>\n",
              "      <td>0</td>\n",
              "      <td>1</td>\n",
              "    </tr>\n",
              "    <tr>\n",
              "      <th>45712</th>\n",
              "      <td>0</td>\n",
              "      <td>1</td>\n",
              "    </tr>\n",
              "    <tr>\n",
              "      <th>45713</th>\n",
              "      <td>0</td>\n",
              "      <td>1</td>\n",
              "    </tr>\n",
              "    <tr>\n",
              "      <th>45714</th>\n",
              "      <td>0</td>\n",
              "      <td>1</td>\n",
              "    </tr>\n",
              "    <tr>\n",
              "      <th>45715</th>\n",
              "      <td>0</td>\n",
              "      <td>1</td>\n",
              "    </tr>\n",
              "  </tbody>\n",
              "</table>\n",
              "<p>45716 rows × 2 columns</p>\n",
              "</div>"
            ],
            "text/plain": [
              "       Fell  Found\n",
              "0         1      0\n",
              "1         1      0\n",
              "2         1      0\n",
              "3         1      0\n",
              "4         1      0\n",
              "...     ...    ...\n",
              "45711     0      1\n",
              "45712     0      1\n",
              "45713     0      1\n",
              "45714     0      1\n",
              "45715     0      1\n",
              "\n",
              "[45716 rows x 2 columns]"
            ]
          },
          "metadata": {},
          "execution_count": 56
        }
      ]
    },
    {
      "cell_type": "markdown",
      "source": [
        "Podemos agregar una nueva columna a la tabla, que contenga puros números unos, como:\n",
        "\n",
        "```\n",
        "df_meteorites['nueva'] = 1\n",
        "```\n",
        "\n",
        "Esto es importante, pues así podemos agregar las variables *dummies* a la tabla "
      ],
      "metadata": {
        "id": "KVK4fi3qkqJD"
      }
    },
    {
      "cell_type": "code",
      "source": [
        "df_meteorites[['fell','found']] = pd.get_dummies(df_meteorites['fall'])\n",
        "df_meteorites"
      ],
      "metadata": {
        "colab": {
          "base_uri": "https://localhost:8080/",
          "height": 419
        },
        "id": "rb395XkQkHY5",
        "outputId": "b0924386-d641-456a-9486-53f60e336677"
      },
      "execution_count": null,
      "outputs": [
        {
          "output_type": "execute_result",
          "data": {
            "text/html": [
              "<div>\n",
              "<style scoped>\n",
              "    .dataframe tbody tr th:only-of-type {\n",
              "        vertical-align: middle;\n",
              "    }\n",
              "\n",
              "    .dataframe tbody tr th {\n",
              "        vertical-align: top;\n",
              "    }\n",
              "\n",
              "    .dataframe thead th {\n",
              "        text-align: right;\n",
              "    }\n",
              "</style>\n",
              "<table border=\"1\" class=\"dataframe\">\n",
              "  <thead>\n",
              "    <tr style=\"text-align: right;\">\n",
              "      <th></th>\n",
              "      <th>name</th>\n",
              "      <th>id</th>\n",
              "      <th>nametype</th>\n",
              "      <th>recclass</th>\n",
              "      <th>mass (g)</th>\n",
              "      <th>fall</th>\n",
              "      <th>year</th>\n",
              "      <th>reclat</th>\n",
              "      <th>reclong</th>\n",
              "      <th>GeoLocation</th>\n",
              "      <th>fell</th>\n",
              "      <th>found</th>\n",
              "    </tr>\n",
              "  </thead>\n",
              "  <tbody>\n",
              "    <tr>\n",
              "      <th>0</th>\n",
              "      <td>Aachen</td>\n",
              "      <td>1</td>\n",
              "      <td>Valid</td>\n",
              "      <td>L5</td>\n",
              "      <td>21.0</td>\n",
              "      <td>Fell</td>\n",
              "      <td>01/01/1880 12:00:00 AM</td>\n",
              "      <td>50.8</td>\n",
              "      <td>6.1</td>\n",
              "      <td>(50.775, 6.08333)</td>\n",
              "      <td>1</td>\n",
              "      <td>0</td>\n",
              "    </tr>\n",
              "    <tr>\n",
              "      <th>1</th>\n",
              "      <td>Aarhus</td>\n",
              "      <td>2</td>\n",
              "      <td>Valid</td>\n",
              "      <td>H6</td>\n",
              "      <td>720.0</td>\n",
              "      <td>Fell</td>\n",
              "      <td>01/01/1951 12:00:00 AM</td>\n",
              "      <td>56.2</td>\n",
              "      <td>10.2</td>\n",
              "      <td>(56.18333, 10.23333)</td>\n",
              "      <td>1</td>\n",
              "      <td>0</td>\n",
              "    </tr>\n",
              "    <tr>\n",
              "      <th>2</th>\n",
              "      <td>Abee</td>\n",
              "      <td>6</td>\n",
              "      <td>Valid</td>\n",
              "      <td>EH4</td>\n",
              "      <td>107,000.0</td>\n",
              "      <td>Fell</td>\n",
              "      <td>01/01/1952 12:00:00 AM</td>\n",
              "      <td>54.2</td>\n",
              "      <td>-113.0</td>\n",
              "      <td>(54.21667, -113.0)</td>\n",
              "      <td>1</td>\n",
              "      <td>0</td>\n",
              "    </tr>\n",
              "    <tr>\n",
              "      <th>3</th>\n",
              "      <td>Acapulco</td>\n",
              "      <td>10</td>\n",
              "      <td>Valid</td>\n",
              "      <td>Acapulcoite</td>\n",
              "      <td>1,914.0</td>\n",
              "      <td>Fell</td>\n",
              "      <td>01/01/1976 12:00:00 AM</td>\n",
              "      <td>16.9</td>\n",
              "      <td>-99.9</td>\n",
              "      <td>(16.88333, -99.9)</td>\n",
              "      <td>1</td>\n",
              "      <td>0</td>\n",
              "    </tr>\n",
              "    <tr>\n",
              "      <th>4</th>\n",
              "      <td>Achiras</td>\n",
              "      <td>370</td>\n",
              "      <td>Valid</td>\n",
              "      <td>L6</td>\n",
              "      <td>780.0</td>\n",
              "      <td>Fell</td>\n",
              "      <td>01/01/1902 12:00:00 AM</td>\n",
              "      <td>-33.2</td>\n",
              "      <td>-65.0</td>\n",
              "      <td>(-33.16667, -64.95)</td>\n",
              "      <td>1</td>\n",
              "      <td>0</td>\n",
              "    </tr>\n",
              "    <tr>\n",
              "      <th>...</th>\n",
              "      <td>...</td>\n",
              "      <td>...</td>\n",
              "      <td>...</td>\n",
              "      <td>...</td>\n",
              "      <td>...</td>\n",
              "      <td>...</td>\n",
              "      <td>...</td>\n",
              "      <td>...</td>\n",
              "      <td>...</td>\n",
              "      <td>...</td>\n",
              "      <td>...</td>\n",
              "      <td>...</td>\n",
              "    </tr>\n",
              "    <tr>\n",
              "      <th>45711</th>\n",
              "      <td>Zillah 002</td>\n",
              "      <td>31356</td>\n",
              "      <td>Valid</td>\n",
              "      <td>Eucrite</td>\n",
              "      <td>172.0</td>\n",
              "      <td>Found</td>\n",
              "      <td>01/01/1990 12:00:00 AM</td>\n",
              "      <td>29.0</td>\n",
              "      <td>17.0</td>\n",
              "      <td>(29.037, 17.0185)</td>\n",
              "      <td>0</td>\n",
              "      <td>1</td>\n",
              "    </tr>\n",
              "    <tr>\n",
              "      <th>45712</th>\n",
              "      <td>Zinder</td>\n",
              "      <td>30409</td>\n",
              "      <td>Valid</td>\n",
              "      <td>Pallasite, ungrouped</td>\n",
              "      <td>46.0</td>\n",
              "      <td>Found</td>\n",
              "      <td>01/01/1999 12:00:00 AM</td>\n",
              "      <td>13.8</td>\n",
              "      <td>9.0</td>\n",
              "      <td>(13.78333, 8.96667)</td>\n",
              "      <td>0</td>\n",
              "      <td>1</td>\n",
              "    </tr>\n",
              "    <tr>\n",
              "      <th>45713</th>\n",
              "      <td>Zlin</td>\n",
              "      <td>30410</td>\n",
              "      <td>Valid</td>\n",
              "      <td>H4</td>\n",
              "      <td>3.3</td>\n",
              "      <td>Found</td>\n",
              "      <td>01/01/1939 12:00:00 AM</td>\n",
              "      <td>49.2</td>\n",
              "      <td>17.7</td>\n",
              "      <td>(49.25, 17.66667)</td>\n",
              "      <td>0</td>\n",
              "      <td>1</td>\n",
              "    </tr>\n",
              "    <tr>\n",
              "      <th>45714</th>\n",
              "      <td>Zubkovsky</td>\n",
              "      <td>31357</td>\n",
              "      <td>Valid</td>\n",
              "      <td>L6</td>\n",
              "      <td>2,167.0</td>\n",
              "      <td>Found</td>\n",
              "      <td>01/01/2003 12:00:00 AM</td>\n",
              "      <td>49.8</td>\n",
              "      <td>41.5</td>\n",
              "      <td>(49.78917, 41.5046)</td>\n",
              "      <td>0</td>\n",
              "      <td>1</td>\n",
              "    </tr>\n",
              "    <tr>\n",
              "      <th>45715</th>\n",
              "      <td>Zulu Queen</td>\n",
              "      <td>30414</td>\n",
              "      <td>Valid</td>\n",
              "      <td>L3.7</td>\n",
              "      <td>200.0</td>\n",
              "      <td>Found</td>\n",
              "      <td>01/01/1976 12:00:00 AM</td>\n",
              "      <td>34.0</td>\n",
              "      <td>-115.7</td>\n",
              "      <td>(33.98333, -115.68333)</td>\n",
              "      <td>0</td>\n",
              "      <td>1</td>\n",
              "    </tr>\n",
              "  </tbody>\n",
              "</table>\n",
              "<p>45716 rows × 12 columns</p>\n",
              "</div>"
            ],
            "text/plain": [
              "             name     id nametype  ...             GeoLocation  fell found\n",
              "0          Aachen      1    Valid  ...       (50.775, 6.08333)     1     0\n",
              "1          Aarhus      2    Valid  ...    (56.18333, 10.23333)     1     0\n",
              "2            Abee      6    Valid  ...      (54.21667, -113.0)     1     0\n",
              "3        Acapulco     10    Valid  ...       (16.88333, -99.9)     1     0\n",
              "4         Achiras    370    Valid  ...     (-33.16667, -64.95)     1     0\n",
              "...           ...    ...      ...  ...                     ...   ...   ...\n",
              "45711  Zillah 002  31356    Valid  ...       (29.037, 17.0185)     0     1\n",
              "45712      Zinder  30409    Valid  ...     (13.78333, 8.96667)     0     1\n",
              "45713        Zlin  30410    Valid  ...       (49.25, 17.66667)     0     1\n",
              "45714   Zubkovsky  31357    Valid  ...     (49.78917, 41.5046)     0     1\n",
              "45715  Zulu Queen  30414    Valid  ...  (33.98333, -115.68333)     0     1\n",
              "\n",
              "[45716 rows x 12 columns]"
            ]
          },
          "metadata": {},
          "execution_count": 58
        }
      ]
    },
    {
      "cell_type": "markdown",
      "source": [
        "Ahora pasamos a analizar la variable \"year\""
      ],
      "metadata": {
        "id": "UXYvsn3tldpC"
      }
    },
    {
      "cell_type": "code",
      "source": [
        "df_meteorites['year']"
      ],
      "metadata": {
        "colab": {
          "base_uri": "https://localhost:8080/"
        },
        "id": "EyD0xTm4lM9v",
        "outputId": "a2855b74-e7de-4886-951e-c4efbd1e1627"
      },
      "execution_count": null,
      "outputs": [
        {
          "output_type": "execute_result",
          "data": {
            "text/plain": [
              "0        01/01/1880 12:00:00 AM\n",
              "1        01/01/1951 12:00:00 AM\n",
              "2        01/01/1952 12:00:00 AM\n",
              "3        01/01/1976 12:00:00 AM\n",
              "4        01/01/1902 12:00:00 AM\n",
              "                  ...          \n",
              "45711    01/01/1990 12:00:00 AM\n",
              "45712    01/01/1999 12:00:00 AM\n",
              "45713    01/01/1939 12:00:00 AM\n",
              "45714    01/01/2003 12:00:00 AM\n",
              "45715    01/01/1976 12:00:00 AM\n",
              "Name: year, Length: 45716, dtype: object"
            ]
          },
          "metadata": {},
          "execution_count": 59
        }
      ]
    },
    {
      "cell_type": "markdown",
      "source": [
        "Vemos que es una variable de tipo texto, lo cual no es muy últil, por lo que sería conveniente convertirla a una variable tipo tiempo. Para ello hacemos lo siguiente:"
      ],
      "metadata": {
        "id": "rEEeI6LIlnc8"
      }
    },
    {
      "cell_type": "code",
      "source": [
        "pd.to_datetime(\n",
        "  df_meteorites['year'], #la variable a convertir\n",
        "  errors = 'coerce', #esto hace que cuando el formato del texto no corresponda al formato de tiempo (dd/mm/aaa, mm/dd/aaa, etc), devuelva una variable nula\n",
        "  format ='%m/%d/%Y %H:%M:%S %p' #el formato de tiempo que tiene la variable original (%p es para AM/PM)\n",
        ")"
      ],
      "metadata": {
        "colab": {
          "base_uri": "https://localhost:8080/"
        },
        "id": "TSWTOaQ3lmN3",
        "outputId": "c04dfd5d-1a01-4efc-ee95-b2358c5be174"
      },
      "execution_count": null,
      "outputs": [
        {
          "output_type": "execute_result",
          "data": {
            "text/plain": [
              "0       1880-01-01 12:00:00\n",
              "1       1951-01-01 12:00:00\n",
              "2       1952-01-01 12:00:00\n",
              "3       1976-01-01 12:00:00\n",
              "4       1902-01-01 12:00:00\n",
              "                ...        \n",
              "45711   1990-01-01 12:00:00\n",
              "45712   1999-01-01 12:00:00\n",
              "45713   1939-01-01 12:00:00\n",
              "45714   2003-01-01 12:00:00\n",
              "45715   1976-01-01 12:00:00\n",
              "Name: year, Length: 45716, dtype: datetime64[ns]"
            ]
          },
          "metadata": {},
          "execution_count": 60
        }
      ]
    },
    {
      "cell_type": "markdown",
      "source": [
        "Sobreescribimos lo anterior a la tabla (lo anteior no modificó ningún dato de la tabla)"
      ],
      "metadata": {
        "id": "gwLNCAL3nVEF"
      }
    },
    {
      "cell_type": "code",
      "source": [
        "df_meteorites['year'] = pd.to_datetime(\n",
        "                          df_meteorites['year'], #la variable a convertir\n",
        "                          errors = 'coerce', #esto hace que cuando el formato del texto no corresponda al formato de tiempo (dd/mm/aaa, mm/dd/aaa, etc), devuelva una variable nula\n",
        "                          format ='%m/%d/%Y %H:%M:%S %p' #el formato de tiempo que tiene la variable original (%p es para AM/PM)\n",
        "                          )"
      ],
      "metadata": {
        "id": "KgkIaWRPnNSx"
      },
      "execution_count": null,
      "outputs": []
    },
    {
      "cell_type": "markdown",
      "source": [
        "Comprobamos los cambios"
      ],
      "metadata": {
        "id": "t9zFRHMZnohU"
      }
    },
    {
      "cell_type": "code",
      "source": [
        "df_meteorites.convert_dtypes().dtypes"
      ],
      "metadata": {
        "colab": {
          "base_uri": "https://localhost:8080/"
        },
        "id": "pgGb8Kknnkaa",
        "outputId": "4338194b-8545-4b3c-d8bd-3ef62ae58379"
      },
      "execution_count": null,
      "outputs": [
        {
          "output_type": "execute_result",
          "data": {
            "text/plain": [
              "name                   string\n",
              "id                      Int64\n",
              "nametype             category\n",
              "recclass               string\n",
              "mass (g)              float64\n",
              "fall                 category\n",
              "year           datetime64[ns]\n",
              "reclat                float64\n",
              "reclong               float64\n",
              "GeoLocation            string\n",
              "fell                    UInt8\n",
              "found                   UInt8\n",
              "dtype: object"
            ]
          },
          "metadata": {},
          "execution_count": 63
        }
      ]
    },
    {
      "cell_type": "markdown",
      "source": [
        "También se puede cambiar el nombre de las columnas"
      ],
      "metadata": {
        "id": "CIbO8y-NoH1N"
      }
    },
    {
      "cell_type": "code",
      "source": [
        "df_meteorites.rename(columns={'name':'nombre'},inplace=True)"
      ],
      "metadata": {
        "id": "5U7nSVgXnrhB"
      },
      "execution_count": null,
      "outputs": []
    },
    {
      "cell_type": "markdown",
      "source": [
        "Comprobamos el cambio, para ello, una forma de obtener los nombres de las columnas es:"
      ],
      "metadata": {
        "id": "F1NnEQkoopJs"
      }
    },
    {
      "cell_type": "code",
      "source": [
        "list(df_meteorites)"
      ],
      "metadata": {
        "colab": {
          "base_uri": "https://localhost:8080/"
        },
        "id": "b0lYB6wFooZn",
        "outputId": "78daa835-7c6c-4fc6-92bf-c7f6270bbbf2"
      },
      "execution_count": null,
      "outputs": [
        {
          "output_type": "execute_result",
          "data": {
            "text/plain": [
              "['nombre',\n",
              " 'id',\n",
              " 'nametype',\n",
              " 'recclass',\n",
              " 'mass (g)',\n",
              " 'fall',\n",
              " 'year',\n",
              " 'reclat',\n",
              " 'reclong',\n",
              " 'GeoLocation',\n",
              " 'fell',\n",
              " 'found']"
            ]
          },
          "metadata": {},
          "execution_count": 65
        }
      ]
    },
    {
      "cell_type": "markdown",
      "source": [
        "Ahora vemos cómo borrar columnas, para ello primero creemos una:"
      ],
      "metadata": {
        "id": "VfgVG_-Au8hW"
      }
    },
    {
      "cell_type": "code",
      "source": [
        "df_meteorites['unos']=1\n",
        "df_meteorites"
      ],
      "metadata": {
        "colab": {
          "base_uri": "https://localhost:8080/",
          "height": 419
        },
        "id": "qeMeUOpZu1IH",
        "outputId": "db614a22-15ce-4863-af4f-d57b4e5cb2e2"
      },
      "execution_count": null,
      "outputs": [
        {
          "output_type": "execute_result",
          "data": {
            "text/html": [
              "<div>\n",
              "<style scoped>\n",
              "    .dataframe tbody tr th:only-of-type {\n",
              "        vertical-align: middle;\n",
              "    }\n",
              "\n",
              "    .dataframe tbody tr th {\n",
              "        vertical-align: top;\n",
              "    }\n",
              "\n",
              "    .dataframe thead th {\n",
              "        text-align: right;\n",
              "    }\n",
              "</style>\n",
              "<table border=\"1\" class=\"dataframe\">\n",
              "  <thead>\n",
              "    <tr style=\"text-align: right;\">\n",
              "      <th></th>\n",
              "      <th>nombre</th>\n",
              "      <th>id</th>\n",
              "      <th>nametype</th>\n",
              "      <th>recclass</th>\n",
              "      <th>mass (g)</th>\n",
              "      <th>fall</th>\n",
              "      <th>year</th>\n",
              "      <th>reclat</th>\n",
              "      <th>reclong</th>\n",
              "      <th>GeoLocation</th>\n",
              "      <th>fell</th>\n",
              "      <th>found</th>\n",
              "      <th>unos</th>\n",
              "    </tr>\n",
              "  </thead>\n",
              "  <tbody>\n",
              "    <tr>\n",
              "      <th>0</th>\n",
              "      <td>Aachen</td>\n",
              "      <td>1</td>\n",
              "      <td>Valid</td>\n",
              "      <td>L5</td>\n",
              "      <td>21.0</td>\n",
              "      <td>Fell</td>\n",
              "      <td>1880-01-01 12:00:00</td>\n",
              "      <td>50.8</td>\n",
              "      <td>6.1</td>\n",
              "      <td>(50.775, 6.08333)</td>\n",
              "      <td>1</td>\n",
              "      <td>0</td>\n",
              "      <td>1</td>\n",
              "    </tr>\n",
              "    <tr>\n",
              "      <th>1</th>\n",
              "      <td>Aarhus</td>\n",
              "      <td>2</td>\n",
              "      <td>Valid</td>\n",
              "      <td>H6</td>\n",
              "      <td>720.0</td>\n",
              "      <td>Fell</td>\n",
              "      <td>1951-01-01 12:00:00</td>\n",
              "      <td>56.2</td>\n",
              "      <td>10.2</td>\n",
              "      <td>(56.18333, 10.23333)</td>\n",
              "      <td>1</td>\n",
              "      <td>0</td>\n",
              "      <td>1</td>\n",
              "    </tr>\n",
              "    <tr>\n",
              "      <th>2</th>\n",
              "      <td>Abee</td>\n",
              "      <td>6</td>\n",
              "      <td>Valid</td>\n",
              "      <td>EH4</td>\n",
              "      <td>107,000.0</td>\n",
              "      <td>Fell</td>\n",
              "      <td>1952-01-01 12:00:00</td>\n",
              "      <td>54.2</td>\n",
              "      <td>-113.0</td>\n",
              "      <td>(54.21667, -113.0)</td>\n",
              "      <td>1</td>\n",
              "      <td>0</td>\n",
              "      <td>1</td>\n",
              "    </tr>\n",
              "    <tr>\n",
              "      <th>3</th>\n",
              "      <td>Acapulco</td>\n",
              "      <td>10</td>\n",
              "      <td>Valid</td>\n",
              "      <td>Acapulcoite</td>\n",
              "      <td>1,914.0</td>\n",
              "      <td>Fell</td>\n",
              "      <td>1976-01-01 12:00:00</td>\n",
              "      <td>16.9</td>\n",
              "      <td>-99.9</td>\n",
              "      <td>(16.88333, -99.9)</td>\n",
              "      <td>1</td>\n",
              "      <td>0</td>\n",
              "      <td>1</td>\n",
              "    </tr>\n",
              "    <tr>\n",
              "      <th>4</th>\n",
              "      <td>Achiras</td>\n",
              "      <td>370</td>\n",
              "      <td>Valid</td>\n",
              "      <td>L6</td>\n",
              "      <td>780.0</td>\n",
              "      <td>Fell</td>\n",
              "      <td>1902-01-01 12:00:00</td>\n",
              "      <td>-33.2</td>\n",
              "      <td>-65.0</td>\n",
              "      <td>(-33.16667, -64.95)</td>\n",
              "      <td>1</td>\n",
              "      <td>0</td>\n",
              "      <td>1</td>\n",
              "    </tr>\n",
              "    <tr>\n",
              "      <th>...</th>\n",
              "      <td>...</td>\n",
              "      <td>...</td>\n",
              "      <td>...</td>\n",
              "      <td>...</td>\n",
              "      <td>...</td>\n",
              "      <td>...</td>\n",
              "      <td>...</td>\n",
              "      <td>...</td>\n",
              "      <td>...</td>\n",
              "      <td>...</td>\n",
              "      <td>...</td>\n",
              "      <td>...</td>\n",
              "      <td>...</td>\n",
              "    </tr>\n",
              "    <tr>\n",
              "      <th>45711</th>\n",
              "      <td>Zillah 002</td>\n",
              "      <td>31356</td>\n",
              "      <td>Valid</td>\n",
              "      <td>Eucrite</td>\n",
              "      <td>172.0</td>\n",
              "      <td>Found</td>\n",
              "      <td>1990-01-01 12:00:00</td>\n",
              "      <td>29.0</td>\n",
              "      <td>17.0</td>\n",
              "      <td>(29.037, 17.0185)</td>\n",
              "      <td>0</td>\n",
              "      <td>1</td>\n",
              "      <td>1</td>\n",
              "    </tr>\n",
              "    <tr>\n",
              "      <th>45712</th>\n",
              "      <td>Zinder</td>\n",
              "      <td>30409</td>\n",
              "      <td>Valid</td>\n",
              "      <td>Pallasite, ungrouped</td>\n",
              "      <td>46.0</td>\n",
              "      <td>Found</td>\n",
              "      <td>1999-01-01 12:00:00</td>\n",
              "      <td>13.8</td>\n",
              "      <td>9.0</td>\n",
              "      <td>(13.78333, 8.96667)</td>\n",
              "      <td>0</td>\n",
              "      <td>1</td>\n",
              "      <td>1</td>\n",
              "    </tr>\n",
              "    <tr>\n",
              "      <th>45713</th>\n",
              "      <td>Zlin</td>\n",
              "      <td>30410</td>\n",
              "      <td>Valid</td>\n",
              "      <td>H4</td>\n",
              "      <td>3.3</td>\n",
              "      <td>Found</td>\n",
              "      <td>1939-01-01 12:00:00</td>\n",
              "      <td>49.2</td>\n",
              "      <td>17.7</td>\n",
              "      <td>(49.25, 17.66667)</td>\n",
              "      <td>0</td>\n",
              "      <td>1</td>\n",
              "      <td>1</td>\n",
              "    </tr>\n",
              "    <tr>\n",
              "      <th>45714</th>\n",
              "      <td>Zubkovsky</td>\n",
              "      <td>31357</td>\n",
              "      <td>Valid</td>\n",
              "      <td>L6</td>\n",
              "      <td>2,167.0</td>\n",
              "      <td>Found</td>\n",
              "      <td>2003-01-01 12:00:00</td>\n",
              "      <td>49.8</td>\n",
              "      <td>41.5</td>\n",
              "      <td>(49.78917, 41.5046)</td>\n",
              "      <td>0</td>\n",
              "      <td>1</td>\n",
              "      <td>1</td>\n",
              "    </tr>\n",
              "    <tr>\n",
              "      <th>45715</th>\n",
              "      <td>Zulu Queen</td>\n",
              "      <td>30414</td>\n",
              "      <td>Valid</td>\n",
              "      <td>L3.7</td>\n",
              "      <td>200.0</td>\n",
              "      <td>Found</td>\n",
              "      <td>1976-01-01 12:00:00</td>\n",
              "      <td>34.0</td>\n",
              "      <td>-115.7</td>\n",
              "      <td>(33.98333, -115.68333)</td>\n",
              "      <td>0</td>\n",
              "      <td>1</td>\n",
              "      <td>1</td>\n",
              "    </tr>\n",
              "  </tbody>\n",
              "</table>\n",
              "<p>45716 rows × 13 columns</p>\n",
              "</div>"
            ],
            "text/plain": [
              "           nombre     id nametype  ... fell  found unos\n",
              "0          Aachen      1    Valid  ...    1      0    1\n",
              "1          Aarhus      2    Valid  ...    1      0    1\n",
              "2            Abee      6    Valid  ...    1      0    1\n",
              "3        Acapulco     10    Valid  ...    1      0    1\n",
              "4         Achiras    370    Valid  ...    1      0    1\n",
              "...           ...    ...      ...  ...  ...    ...  ...\n",
              "45711  Zillah 002  31356    Valid  ...    0      1    1\n",
              "45712      Zinder  30409    Valid  ...    0      1    1\n",
              "45713        Zlin  30410    Valid  ...    0      1    1\n",
              "45714   Zubkovsky  31357    Valid  ...    0      1    1\n",
              "45715  Zulu Queen  30414    Valid  ...    0      1    1\n",
              "\n",
              "[45716 rows x 13 columns]"
            ]
          },
          "metadata": {},
          "execution_count": 71
        }
      ]
    },
    {
      "cell_type": "markdown",
      "source": [
        "La borramos con el comando:"
      ],
      "metadata": {
        "id": "FbO2HtcwvCt-"
      }
    },
    {
      "cell_type": "code",
      "source": [
        "df_meteorites.drop(['unos'],axis=1, inplace=True) #axis sirve para elegir si se va a borrar una columna (1) o un renglón (0)\n",
        "#inplace=True sirve para que los cambios se hagan a la tabla (el archivo csv)\n",
        "df_meteorites"
      ],
      "metadata": {
        "colab": {
          "base_uri": "https://localhost:8080/",
          "height": 419
        },
        "id": "uX-Mxwx6u6QQ",
        "outputId": "ed344859-26b6-45da-9b8e-60110f84a14e"
      },
      "execution_count": null,
      "outputs": [
        {
          "output_type": "execute_result",
          "data": {
            "text/html": [
              "<div>\n",
              "<style scoped>\n",
              "    .dataframe tbody tr th:only-of-type {\n",
              "        vertical-align: middle;\n",
              "    }\n",
              "\n",
              "    .dataframe tbody tr th {\n",
              "        vertical-align: top;\n",
              "    }\n",
              "\n",
              "    .dataframe thead th {\n",
              "        text-align: right;\n",
              "    }\n",
              "</style>\n",
              "<table border=\"1\" class=\"dataframe\">\n",
              "  <thead>\n",
              "    <tr style=\"text-align: right;\">\n",
              "      <th></th>\n",
              "      <th>nombre</th>\n",
              "      <th>id</th>\n",
              "      <th>nametype</th>\n",
              "      <th>recclass</th>\n",
              "      <th>mass (g)</th>\n",
              "      <th>fall</th>\n",
              "      <th>year</th>\n",
              "      <th>reclat</th>\n",
              "      <th>reclong</th>\n",
              "      <th>GeoLocation</th>\n",
              "      <th>fell</th>\n",
              "      <th>found</th>\n",
              "    </tr>\n",
              "  </thead>\n",
              "  <tbody>\n",
              "    <tr>\n",
              "      <th>0</th>\n",
              "      <td>Aachen</td>\n",
              "      <td>1</td>\n",
              "      <td>Valid</td>\n",
              "      <td>L5</td>\n",
              "      <td>21.0</td>\n",
              "      <td>Fell</td>\n",
              "      <td>1880-01-01 12:00:00</td>\n",
              "      <td>50.8</td>\n",
              "      <td>6.1</td>\n",
              "      <td>(50.775, 6.08333)</td>\n",
              "      <td>1</td>\n",
              "      <td>0</td>\n",
              "    </tr>\n",
              "    <tr>\n",
              "      <th>1</th>\n",
              "      <td>Aarhus</td>\n",
              "      <td>2</td>\n",
              "      <td>Valid</td>\n",
              "      <td>H6</td>\n",
              "      <td>720.0</td>\n",
              "      <td>Fell</td>\n",
              "      <td>1951-01-01 12:00:00</td>\n",
              "      <td>56.2</td>\n",
              "      <td>10.2</td>\n",
              "      <td>(56.18333, 10.23333)</td>\n",
              "      <td>1</td>\n",
              "      <td>0</td>\n",
              "    </tr>\n",
              "    <tr>\n",
              "      <th>2</th>\n",
              "      <td>Abee</td>\n",
              "      <td>6</td>\n",
              "      <td>Valid</td>\n",
              "      <td>EH4</td>\n",
              "      <td>107,000.0</td>\n",
              "      <td>Fell</td>\n",
              "      <td>1952-01-01 12:00:00</td>\n",
              "      <td>54.2</td>\n",
              "      <td>-113.0</td>\n",
              "      <td>(54.21667, -113.0)</td>\n",
              "      <td>1</td>\n",
              "      <td>0</td>\n",
              "    </tr>\n",
              "    <tr>\n",
              "      <th>3</th>\n",
              "      <td>Acapulco</td>\n",
              "      <td>10</td>\n",
              "      <td>Valid</td>\n",
              "      <td>Acapulcoite</td>\n",
              "      <td>1,914.0</td>\n",
              "      <td>Fell</td>\n",
              "      <td>1976-01-01 12:00:00</td>\n",
              "      <td>16.9</td>\n",
              "      <td>-99.9</td>\n",
              "      <td>(16.88333, -99.9)</td>\n",
              "      <td>1</td>\n",
              "      <td>0</td>\n",
              "    </tr>\n",
              "    <tr>\n",
              "      <th>4</th>\n",
              "      <td>Achiras</td>\n",
              "      <td>370</td>\n",
              "      <td>Valid</td>\n",
              "      <td>L6</td>\n",
              "      <td>780.0</td>\n",
              "      <td>Fell</td>\n",
              "      <td>1902-01-01 12:00:00</td>\n",
              "      <td>-33.2</td>\n",
              "      <td>-65.0</td>\n",
              "      <td>(-33.16667, -64.95)</td>\n",
              "      <td>1</td>\n",
              "      <td>0</td>\n",
              "    </tr>\n",
              "    <tr>\n",
              "      <th>...</th>\n",
              "      <td>...</td>\n",
              "      <td>...</td>\n",
              "      <td>...</td>\n",
              "      <td>...</td>\n",
              "      <td>...</td>\n",
              "      <td>...</td>\n",
              "      <td>...</td>\n",
              "      <td>...</td>\n",
              "      <td>...</td>\n",
              "      <td>...</td>\n",
              "      <td>...</td>\n",
              "      <td>...</td>\n",
              "    </tr>\n",
              "    <tr>\n",
              "      <th>45711</th>\n",
              "      <td>Zillah 002</td>\n",
              "      <td>31356</td>\n",
              "      <td>Valid</td>\n",
              "      <td>Eucrite</td>\n",
              "      <td>172.0</td>\n",
              "      <td>Found</td>\n",
              "      <td>1990-01-01 12:00:00</td>\n",
              "      <td>29.0</td>\n",
              "      <td>17.0</td>\n",
              "      <td>(29.037, 17.0185)</td>\n",
              "      <td>0</td>\n",
              "      <td>1</td>\n",
              "    </tr>\n",
              "    <tr>\n",
              "      <th>45712</th>\n",
              "      <td>Zinder</td>\n",
              "      <td>30409</td>\n",
              "      <td>Valid</td>\n",
              "      <td>Pallasite, ungrouped</td>\n",
              "      <td>46.0</td>\n",
              "      <td>Found</td>\n",
              "      <td>1999-01-01 12:00:00</td>\n",
              "      <td>13.8</td>\n",
              "      <td>9.0</td>\n",
              "      <td>(13.78333, 8.96667)</td>\n",
              "      <td>0</td>\n",
              "      <td>1</td>\n",
              "    </tr>\n",
              "    <tr>\n",
              "      <th>45713</th>\n",
              "      <td>Zlin</td>\n",
              "      <td>30410</td>\n",
              "      <td>Valid</td>\n",
              "      <td>H4</td>\n",
              "      <td>3.3</td>\n",
              "      <td>Found</td>\n",
              "      <td>1939-01-01 12:00:00</td>\n",
              "      <td>49.2</td>\n",
              "      <td>17.7</td>\n",
              "      <td>(49.25, 17.66667)</td>\n",
              "      <td>0</td>\n",
              "      <td>1</td>\n",
              "    </tr>\n",
              "    <tr>\n",
              "      <th>45714</th>\n",
              "      <td>Zubkovsky</td>\n",
              "      <td>31357</td>\n",
              "      <td>Valid</td>\n",
              "      <td>L6</td>\n",
              "      <td>2,167.0</td>\n",
              "      <td>Found</td>\n",
              "      <td>2003-01-01 12:00:00</td>\n",
              "      <td>49.8</td>\n",
              "      <td>41.5</td>\n",
              "      <td>(49.78917, 41.5046)</td>\n",
              "      <td>0</td>\n",
              "      <td>1</td>\n",
              "    </tr>\n",
              "    <tr>\n",
              "      <th>45715</th>\n",
              "      <td>Zulu Queen</td>\n",
              "      <td>30414</td>\n",
              "      <td>Valid</td>\n",
              "      <td>L3.7</td>\n",
              "      <td>200.0</td>\n",
              "      <td>Found</td>\n",
              "      <td>1976-01-01 12:00:00</td>\n",
              "      <td>34.0</td>\n",
              "      <td>-115.7</td>\n",
              "      <td>(33.98333, -115.68333)</td>\n",
              "      <td>0</td>\n",
              "      <td>1</td>\n",
              "    </tr>\n",
              "  </tbody>\n",
              "</table>\n",
              "<p>45716 rows × 12 columns</p>\n",
              "</div>"
            ],
            "text/plain": [
              "           nombre     id nametype  ...             GeoLocation  fell found\n",
              "0          Aachen      1    Valid  ...       (50.775, 6.08333)     1     0\n",
              "1          Aarhus      2    Valid  ...    (56.18333, 10.23333)     1     0\n",
              "2            Abee      6    Valid  ...      (54.21667, -113.0)     1     0\n",
              "3        Acapulco     10    Valid  ...       (16.88333, -99.9)     1     0\n",
              "4         Achiras    370    Valid  ...     (-33.16667, -64.95)     1     0\n",
              "...           ...    ...      ...  ...                     ...   ...   ...\n",
              "45711  Zillah 002  31356    Valid  ...       (29.037, 17.0185)     0     1\n",
              "45712      Zinder  30409    Valid  ...     (13.78333, 8.96667)     0     1\n",
              "45713        Zlin  30410    Valid  ...       (49.25, 17.66667)     0     1\n",
              "45714   Zubkovsky  31357    Valid  ...     (49.78917, 41.5046)     0     1\n",
              "45715  Zulu Queen  30414    Valid  ...  (33.98333, -115.68333)     0     1\n",
              "\n",
              "[45716 rows x 12 columns]"
            ]
          },
          "metadata": {},
          "execution_count": 72
        }
      ]
    },
    {
      "cell_type": "markdown",
      "source": [
        "Para borrar renglones hacemos:\n",
        "\n",
        "```\n",
        "df_meteorites.drop([0,2,4,6,8]).head(10) #por defecto detecta que se quieren borra renglones\n",
        "```\n",
        "\n",
        "Para borrar columnas y renglones hacemos:\n",
        "\n",
        "\n",
        "```\n",
        "df_meteorites.drop(columns = ['id','nombre'], index = [0,2,4,6,8])\n",
        "```\n",
        "\n"
      ],
      "metadata": {
        "id": "mFzXjWqWv92y"
      }
    },
    {
      "cell_type": "markdown",
      "source": [
        "Por otro lado, para copiar una tabla hacemos:"
      ],
      "metadata": {
        "id": "BkDBa1KGxJuQ"
      }
    },
    {
      "cell_type": "code",
      "source": [
        "df = df_meteorites.copy(deep=True)\n",
        "df"
      ],
      "metadata": {
        "colab": {
          "base_uri": "https://localhost:8080/",
          "height": 419
        },
        "id": "2nShNxfBvQAC",
        "outputId": "e8639700-ee89-43ff-9167-db2fdecabfaa"
      },
      "execution_count": null,
      "outputs": [
        {
          "output_type": "execute_result",
          "data": {
            "text/html": [
              "<div>\n",
              "<style scoped>\n",
              "    .dataframe tbody tr th:only-of-type {\n",
              "        vertical-align: middle;\n",
              "    }\n",
              "\n",
              "    .dataframe tbody tr th {\n",
              "        vertical-align: top;\n",
              "    }\n",
              "\n",
              "    .dataframe thead th {\n",
              "        text-align: right;\n",
              "    }\n",
              "</style>\n",
              "<table border=\"1\" class=\"dataframe\">\n",
              "  <thead>\n",
              "    <tr style=\"text-align: right;\">\n",
              "      <th></th>\n",
              "      <th>nombre</th>\n",
              "      <th>id</th>\n",
              "      <th>nametype</th>\n",
              "      <th>recclass</th>\n",
              "      <th>mass (g)</th>\n",
              "      <th>fall</th>\n",
              "      <th>year</th>\n",
              "      <th>reclat</th>\n",
              "      <th>reclong</th>\n",
              "      <th>GeoLocation</th>\n",
              "      <th>fell</th>\n",
              "      <th>found</th>\n",
              "    </tr>\n",
              "  </thead>\n",
              "  <tbody>\n",
              "    <tr>\n",
              "      <th>0</th>\n",
              "      <td>Aachen</td>\n",
              "      <td>1</td>\n",
              "      <td>Valid</td>\n",
              "      <td>L5</td>\n",
              "      <td>21.0</td>\n",
              "      <td>Fell</td>\n",
              "      <td>1880-01-01 12:00:00</td>\n",
              "      <td>50.8</td>\n",
              "      <td>6.1</td>\n",
              "      <td>(50.775, 6.08333)</td>\n",
              "      <td>1</td>\n",
              "      <td>0</td>\n",
              "    </tr>\n",
              "    <tr>\n",
              "      <th>1</th>\n",
              "      <td>Aarhus</td>\n",
              "      <td>2</td>\n",
              "      <td>Valid</td>\n",
              "      <td>H6</td>\n",
              "      <td>720.0</td>\n",
              "      <td>Fell</td>\n",
              "      <td>1951-01-01 12:00:00</td>\n",
              "      <td>56.2</td>\n",
              "      <td>10.2</td>\n",
              "      <td>(56.18333, 10.23333)</td>\n",
              "      <td>1</td>\n",
              "      <td>0</td>\n",
              "    </tr>\n",
              "    <tr>\n",
              "      <th>2</th>\n",
              "      <td>Abee</td>\n",
              "      <td>6</td>\n",
              "      <td>Valid</td>\n",
              "      <td>EH4</td>\n",
              "      <td>107,000.0</td>\n",
              "      <td>Fell</td>\n",
              "      <td>1952-01-01 12:00:00</td>\n",
              "      <td>54.2</td>\n",
              "      <td>-113.0</td>\n",
              "      <td>(54.21667, -113.0)</td>\n",
              "      <td>1</td>\n",
              "      <td>0</td>\n",
              "    </tr>\n",
              "    <tr>\n",
              "      <th>3</th>\n",
              "      <td>Acapulco</td>\n",
              "      <td>10</td>\n",
              "      <td>Valid</td>\n",
              "      <td>Acapulcoite</td>\n",
              "      <td>1,914.0</td>\n",
              "      <td>Fell</td>\n",
              "      <td>1976-01-01 12:00:00</td>\n",
              "      <td>16.9</td>\n",
              "      <td>-99.9</td>\n",
              "      <td>(16.88333, -99.9)</td>\n",
              "      <td>1</td>\n",
              "      <td>0</td>\n",
              "    </tr>\n",
              "    <tr>\n",
              "      <th>4</th>\n",
              "      <td>Achiras</td>\n",
              "      <td>370</td>\n",
              "      <td>Valid</td>\n",
              "      <td>L6</td>\n",
              "      <td>780.0</td>\n",
              "      <td>Fell</td>\n",
              "      <td>1902-01-01 12:00:00</td>\n",
              "      <td>-33.2</td>\n",
              "      <td>-65.0</td>\n",
              "      <td>(-33.16667, -64.95)</td>\n",
              "      <td>1</td>\n",
              "      <td>0</td>\n",
              "    </tr>\n",
              "    <tr>\n",
              "      <th>...</th>\n",
              "      <td>...</td>\n",
              "      <td>...</td>\n",
              "      <td>...</td>\n",
              "      <td>...</td>\n",
              "      <td>...</td>\n",
              "      <td>...</td>\n",
              "      <td>...</td>\n",
              "      <td>...</td>\n",
              "      <td>...</td>\n",
              "      <td>...</td>\n",
              "      <td>...</td>\n",
              "      <td>...</td>\n",
              "    </tr>\n",
              "    <tr>\n",
              "      <th>45711</th>\n",
              "      <td>Zillah 002</td>\n",
              "      <td>31356</td>\n",
              "      <td>Valid</td>\n",
              "      <td>Eucrite</td>\n",
              "      <td>172.0</td>\n",
              "      <td>Found</td>\n",
              "      <td>1990-01-01 12:00:00</td>\n",
              "      <td>29.0</td>\n",
              "      <td>17.0</td>\n",
              "      <td>(29.037, 17.0185)</td>\n",
              "      <td>0</td>\n",
              "      <td>1</td>\n",
              "    </tr>\n",
              "    <tr>\n",
              "      <th>45712</th>\n",
              "      <td>Zinder</td>\n",
              "      <td>30409</td>\n",
              "      <td>Valid</td>\n",
              "      <td>Pallasite, ungrouped</td>\n",
              "      <td>46.0</td>\n",
              "      <td>Found</td>\n",
              "      <td>1999-01-01 12:00:00</td>\n",
              "      <td>13.8</td>\n",
              "      <td>9.0</td>\n",
              "      <td>(13.78333, 8.96667)</td>\n",
              "      <td>0</td>\n",
              "      <td>1</td>\n",
              "    </tr>\n",
              "    <tr>\n",
              "      <th>45713</th>\n",
              "      <td>Zlin</td>\n",
              "      <td>30410</td>\n",
              "      <td>Valid</td>\n",
              "      <td>H4</td>\n",
              "      <td>3.3</td>\n",
              "      <td>Found</td>\n",
              "      <td>1939-01-01 12:00:00</td>\n",
              "      <td>49.2</td>\n",
              "      <td>17.7</td>\n",
              "      <td>(49.25, 17.66667)</td>\n",
              "      <td>0</td>\n",
              "      <td>1</td>\n",
              "    </tr>\n",
              "    <tr>\n",
              "      <th>45714</th>\n",
              "      <td>Zubkovsky</td>\n",
              "      <td>31357</td>\n",
              "      <td>Valid</td>\n",
              "      <td>L6</td>\n",
              "      <td>2,167.0</td>\n",
              "      <td>Found</td>\n",
              "      <td>2003-01-01 12:00:00</td>\n",
              "      <td>49.8</td>\n",
              "      <td>41.5</td>\n",
              "      <td>(49.78917, 41.5046)</td>\n",
              "      <td>0</td>\n",
              "      <td>1</td>\n",
              "    </tr>\n",
              "    <tr>\n",
              "      <th>45715</th>\n",
              "      <td>Zulu Queen</td>\n",
              "      <td>30414</td>\n",
              "      <td>Valid</td>\n",
              "      <td>L3.7</td>\n",
              "      <td>200.0</td>\n",
              "      <td>Found</td>\n",
              "      <td>1976-01-01 12:00:00</td>\n",
              "      <td>34.0</td>\n",
              "      <td>-115.7</td>\n",
              "      <td>(33.98333, -115.68333)</td>\n",
              "      <td>0</td>\n",
              "      <td>1</td>\n",
              "    </tr>\n",
              "  </tbody>\n",
              "</table>\n",
              "<p>45716 rows × 12 columns</p>\n",
              "</div>"
            ],
            "text/plain": [
              "           nombre     id nametype  ...             GeoLocation  fell found\n",
              "0          Aachen      1    Valid  ...       (50.775, 6.08333)     1     0\n",
              "1          Aarhus      2    Valid  ...    (56.18333, 10.23333)     1     0\n",
              "2            Abee      6    Valid  ...      (54.21667, -113.0)     1     0\n",
              "3        Acapulco     10    Valid  ...       (16.88333, -99.9)     1     0\n",
              "4         Achiras    370    Valid  ...     (-33.16667, -64.95)     1     0\n",
              "...           ...    ...      ...  ...                     ...   ...   ...\n",
              "45711  Zillah 002  31356    Valid  ...       (29.037, 17.0185)     0     1\n",
              "45712      Zinder  30409    Valid  ...     (13.78333, 8.96667)     0     1\n",
              "45713        Zlin  30410    Valid  ...       (49.25, 17.66667)     0     1\n",
              "45714   Zubkovsky  31357    Valid  ...     (49.78917, 41.5046)     0     1\n",
              "45715  Zulu Queen  30414    Valid  ...  (33.98333, -115.68333)     0     1\n",
              "\n",
              "[45716 rows x 12 columns]"
            ]
          },
          "metadata": {},
          "execution_count": 73
        }
      ]
    },
    {
      "cell_type": "markdown",
      "source": [
        "Es importante notar que se tiene que hace así, pues de lo contrario (no poner copy y solo hacer df = df_meteorites) los cambios realizados a la copia también se efectuarán a la original"
      ],
      "metadata": {
        "id": "OYYP8Rs4xQba"
      }
    }
  ]
}